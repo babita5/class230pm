{
 "cells": [
  {
   "cell_type": "code",
   "execution_count": 1,
   "metadata": {},
   "outputs": [],
   "source": [
    "# dictionary\n",
    "# -multiple values accept\n",
    "# -mutable data type\n",
    "# -indexing\n",
    "# -ordered\n",
    "# -duplicate members\n",
    "# - no duplicate index"
   ]
  },
  {
   "cell_type": "code",
   "execution_count": 2,
   "metadata": {},
   "outputs": [
    {
     "data": {
      "text/plain": [
       "dict"
      ]
     },
     "execution_count": 2,
     "metadata": {},
     "output_type": "execute_result"
    }
   ],
   "source": [
    "a = {}\n",
    "type(a)"
   ]
  },
  {
   "cell_type": "code",
   "execution_count": 3,
   "metadata": {},
   "outputs": [
    {
     "name": "stdout",
     "output_type": "stream",
     "text": [
      "{'A': 'Apple', 'B': 'Ball'}\n",
      "<class 'dict'>\n"
     ]
    }
   ],
   "source": [
    "# a = {<key>:<value>,<key>:<value>}\n",
    "a = {\"A\":\"Apple\",\"B\":\"Ball\"}\n",
    "b = {0:\"Apple\",1:\"Ball\"}\n",
    "print(a)\n",
    "print(type(a))"
   ]
  },
  {
   "cell_type": "code",
   "execution_count": 4,
   "metadata": {},
   "outputs": [
    {
     "name": "stdout",
     "output_type": "stream",
     "text": [
      "{'A': 'Apple', 'a': 'Apple'}\n"
     ]
    }
   ],
   "source": [
    "a = {\"A\":\"Apple\",\"a\":\"Apple\"}\n",
    "print(a)"
   ]
  },
  {
   "cell_type": "code",
   "execution_count": 9,
   "metadata": {},
   "outputs": [
    {
     "data": {
      "text/plain": [
       "'Apple'"
      ]
     },
     "execution_count": 9,
     "metadata": {},
     "output_type": "execute_result"
    }
   ],
   "source": [
    "a = {\"A\":\"Apple\",\"a\":\"Apple\"}\n",
    "a[\"a\"]"
   ]
  },
  {
   "cell_type": "code",
   "execution_count": 11,
   "metadata": {},
   "outputs": [
    {
     "name": "stdout",
     "output_type": "stream",
     "text": [
      "{1: 'apple', 0: 'Apple'}\n"
     ]
    }
   ],
   "source": [
    "a = {1:\"apple\",0:\"Apple\"}\n",
    "print(a)"
   ]
  },
  {
   "cell_type": "code",
   "execution_count": 12,
   "metadata": {},
   "outputs": [
    {
     "name": "stdout",
     "output_type": "stream",
     "text": [
      "{'A': 'Ant'}\n"
     ]
    }
   ],
   "source": [
    "a = {\"A\":\"Apple\",\"A\":\"Ant\"}\n",
    "print(a)"
   ]
  },
  {
   "cell_type": "code",
   "execution_count": 15,
   "metadata": {},
   "outputs": [
    {
     "ename": "TypeError",
     "evalue": "unsupported operand type(s) for *: 'dict' and 'int'",
     "output_type": "error",
     "traceback": [
      "\u001b[1;31m---------------------------------------------------------------------------\u001b[0m",
      "\u001b[1;31mTypeError\u001b[0m                                 Traceback (most recent call last)",
      "\u001b[1;32m<ipython-input-15-1de4c0accaaa>\u001b[0m in \u001b[0;36m<module>\u001b[1;34m\u001b[0m\n\u001b[0;32m      3\u001b[0m \u001b[0mb\u001b[0m \u001b[1;33m=\u001b[0m \u001b[1;33m{\u001b[0m\u001b[1;34m\"B\"\u001b[0m\u001b[1;33m:\u001b[0m\u001b[1;34m\"Ball\"\u001b[0m\u001b[1;33m}\u001b[0m\u001b[1;33m\u001b[0m\u001b[1;33m\u001b[0m\u001b[0m\n\u001b[0;32m      4\u001b[0m \u001b[1;31m# print(a+b)\u001b[0m\u001b[1;33m\u001b[0m\u001b[1;33m\u001b[0m\u001b[1;33m\u001b[0m\u001b[0m\n\u001b[1;32m----> 5\u001b[1;33m \u001b[0mprint\u001b[0m\u001b[1;33m(\u001b[0m\u001b[0ma\u001b[0m\u001b[1;33m*\u001b[0m\u001b[1;36m2\u001b[0m\u001b[1;33m)\u001b[0m\u001b[1;33m\u001b[0m\u001b[1;33m\u001b[0m\u001b[0m\n\u001b[0m",
      "\u001b[1;31mTypeError\u001b[0m: unsupported operand type(s) for *: 'dict' and 'int'"
     ]
    }
   ],
   "source": [
    "# + *\n",
    "a = {\"A\":\"Apple\"}\n",
    "b = {\"B\":\"Ball\"}\n",
    "# print(a+b)\n",
    "print(a*2)"
   ]
  },
  {
   "cell_type": "code",
   "execution_count": 20,
   "metadata": {},
   "outputs": [
    {
     "name": "stdout",
     "output_type": "stream",
     "text": [
      "{'A': 'Apple', 'B': 'Ball'}\n"
     ]
    }
   ],
   "source": [
    "a = {\"A\":\"Apple\"}\n",
    "b = {\"B\":\"Ball\"}\n",
    "a.update(b)\n",
    "print(a)"
   ]
  },
  {
   "cell_type": "code",
   "execution_count": 21,
   "metadata": {},
   "outputs": [
    {
     "name": "stdout",
     "output_type": "stream",
     "text": [
      "{'B': 'Ball'}\n"
     ]
    }
   ],
   "source": [
    "a = {}\n",
    "b ={\"B\":\"Ball\"}\n",
    "a.update(b)\n",
    "print(a)"
   ]
  },
  {
   "cell_type": "code",
   "execution_count": 23,
   "metadata": {},
   "outputs": [
    {
     "name": "stdout",
     "output_type": "stream",
     "text": [
      "{'A': 'Apple', 'B': 'BAll'}\n"
     ]
    }
   ],
   "source": [
    "a = {}\n",
    "a['A'] = \"Apple\"\n",
    "a['B'] = \"BAll\"\n",
    "print(a)"
   ]
  },
  {
   "cell_type": "code",
   "execution_count": 24,
   "metadata": {},
   "outputs": [
    {
     "name": "stdout",
     "output_type": "stream",
     "text": [
      "{'A': 'BAll'}\n"
     ]
    }
   ],
   "source": [
    "a = {}\n",
    "a['A'] = \"Apple\"\n",
    "a['A'] = \"BAll\"\n",
    "print(a)"
   ]
  },
  {
   "cell_type": "code",
   "execution_count": 25,
   "metadata": {},
   "outputs": [
    {
     "name": "stdout",
     "output_type": "stream",
     "text": [
      "Enter n = 2\n",
      "Enter a = Apple\n",
      "Enter a = Ant\n",
      "{0: 'Apple', 1: 'Ant'}\n"
     ]
    }
   ],
   "source": [
    "c = {}\n",
    "n = int(input(\"Enter n = \"))\n",
    "for i in range(n):\n",
    "    a = input(\"Enter a = \")\n",
    "    c[i] = a\n",
    "print(c)"
   ]
  },
  {
   "cell_type": "code",
   "execution_count": 26,
   "metadata": {},
   "outputs": [
    {
     "name": "stdout",
     "output_type": "stream",
     "text": [
      "Enter n = 2\n",
      "Enter name = Ram\n",
      "Enter phone = 9878776765\n",
      "Enter name = Shyam\n",
      "Enter phone = 9898998765\n",
      "{'Ram': 9878776765, 'Shyam': 9898998765}\n"
     ]
    }
   ],
   "source": [
    "info = {}\n",
    "n = int(input(\"Enter n = \"))\n",
    "for i in range(n):\n",
    "    name = input(\"Enter name = \")\n",
    "    phone = int(input(\"Enter phone = \"))\n",
    "    info[name] = phone\n",
    "print(info)"
   ]
  },
  {
   "cell_type": "code",
   "execution_count": 27,
   "metadata": {},
   "outputs": [
    {
     "name": "stdout",
     "output_type": "stream",
     "text": [
      "Ram\n",
      "Shyam\n"
     ]
    }
   ],
   "source": [
    "for i in info:\n",
    "    print(i)"
   ]
  },
  {
   "cell_type": "code",
   "execution_count": 29,
   "metadata": {},
   "outputs": [
    {
     "name": "stdout",
     "output_type": "stream",
     "text": [
      "9878776765\n",
      "9898998765\n"
     ]
    }
   ],
   "source": [
    "for i in info.values():\n",
    "    print(i)"
   ]
  },
  {
   "cell_type": "code",
   "execution_count": 30,
   "metadata": {},
   "outputs": [
    {
     "name": "stdout",
     "output_type": "stream",
     "text": [
      "('Ram', 9878776765)\n",
      "('Shyam', 9898998765)\n"
     ]
    }
   ],
   "source": [
    "for i in info.items():\n",
    "    print(i)"
   ]
  },
  {
   "cell_type": "code",
   "execution_count": 31,
   "metadata": {},
   "outputs": [
    {
     "name": "stdout",
     "output_type": "stream",
     "text": [
      "{'Ram': 9878776766, 'Shyam': 9898998765}\n"
     ]
    }
   ],
   "source": [
    "a = {'Ram': 9878776765, 'Shyam': 9898998765}\n",
    "a['Ram'] = 9878776766\n",
    "print(a)"
   ]
  },
  {
   "cell_type": "code",
   "execution_count": 32,
   "metadata": {},
   "outputs": [
    {
     "name": "stdout",
     "output_type": "stream",
     "text": [
      "{'Shyam': 9898998765}\n"
     ]
    }
   ],
   "source": [
    "a = {'Ram': 9878776765, 'Shyam': 9898998765}\n",
    "del a['Ram']\n",
    "print(a)"
   ]
  },
  {
   "cell_type": "code",
   "execution_count": 37,
   "metadata": {},
   "outputs": [
    {
     "name": "stdout",
     "output_type": "stream",
     "text": [
      "9878776765\n"
     ]
    }
   ],
   "source": [
    "a = {'Ram': 9878776765, 'Shyam': 9898998765}\n",
    "b = a.pop('Ram')\n",
    "# print(a)\n",
    "print(b)"
   ]
  },
  {
   "cell_type": "code",
   "execution_count": 38,
   "metadata": {},
   "outputs": [
    {
     "name": "stdout",
     "output_type": "stream",
     "text": [
      "{'Ram': [9878776765, 9808998866], 'Shyam': [9898998765, 9808665544]}\n",
      "<class 'dict'>\n",
      "2\n"
     ]
    }
   ],
   "source": [
    "# list inside dicts\n",
    "a = {'Ram': [9878776765,9808998866], 'Shyam': [9898998765,9808665544]}\n",
    "print(a)\n",
    "print(type(a))\n",
    "print(len(a))"
   ]
  },
  {
   "cell_type": "code",
   "execution_count": 39,
   "metadata": {},
   "outputs": [
    {
     "data": {
      "text/plain": [
       "[9878776765, 9808998866]"
      ]
     },
     "execution_count": 39,
     "metadata": {},
     "output_type": "execute_result"
    }
   ],
   "source": [
    "a['Ram']"
   ]
  },
  {
   "cell_type": "code",
   "execution_count": 40,
   "metadata": {},
   "outputs": [
    {
     "name": "stdout",
     "output_type": "stream",
     "text": [
      "9878776765\n"
     ]
    }
   ],
   "source": [
    "print(a['Ram'][1])"
   ]
  },
  {
   "cell_type": "code",
   "execution_count": 2,
   "metadata": {},
   "outputs": [
    {
     "name": "stdout",
     "output_type": "stream",
     "text": [
      "Enter name = Ram\n",
      "Enter 0 for 'NTC' 1 for 'NCELL' 0\n",
      "The info is =  9878776765\n"
     ]
    }
   ],
   "source": [
    "a = {'Ram': [9878776765, 9808998866], 'Shyam': [9898998765, 9808665544]}\n",
    "name = input(\"Enter name = \")\n",
    "typ = int(input(\"Enter 0 for 'NTC' 1 for 'NCELL' \"))\n",
    "print(\"The info is = \",a[name][typ])"
   ]
  },
  {
   "cell_type": "code",
   "execution_count": 4,
   "metadata": {},
   "outputs": [
    {
     "name": "stdout",
     "output_type": "stream",
     "text": [
      "{'Ram': [9878776765, 9808998866, 4456554], 'Shyam': [9898998765, 9808665544]}\n"
     ]
    }
   ],
   "source": [
    "a = {'Ram': [9878776765, 9808998866], 'Shyam': [9898998765, 9808665544]}\n",
    "a['Ram'].append(4456554)\n",
    "print(a)"
   ]
  },
  {
   "cell_type": "code",
   "execution_count": 5,
   "metadata": {},
   "outputs": [
    {
     "name": "stdout",
     "output_type": "stream",
     "text": [
      "{'Ram': [9878776765, 9808998866], 'Shyam': [9898998765, 9808665544]}\n"
     ]
    }
   ],
   "source": [
    "a = {'Ram': [9878776765, 9808998866, 4456554], 'Shyam': [9898998765, 9808665544]}\n",
    "del a['Ram'][2]\n",
    "print(a)"
   ]
  },
  {
   "cell_type": "code",
   "execution_count": 6,
   "metadata": {},
   "outputs": [
    {
     "name": "stdout",
     "output_type": "stream",
     "text": [
      "Enter n = 2\n",
      "Enter name = Ram\n",
      "Enter NTC phone = 35454\n",
      "Enter NTC phone = 657567\n",
      "Enter name = Shyam\n",
      "Enter NTC phone = 44554546\n",
      "Enter NTC phone = 686868768\n",
      "{'Ram': [35454, 657567], 'Shyam': [44554546, 686868768]}\n"
     ]
    }
   ],
   "source": [
    "info = {}\n",
    "n = int(input(\"Enter n = \"))\n",
    "for i in range(n):\n",
    "    name = input(\"Enter name = \")\n",
    "    ntc_phone = int(input(\"Enter NTC phone = \"))\n",
    "    ncell_phone = int(input(\"Enter NTC phone = \"))\n",
    "    info[name] = [ntc_phone,ncell_phone]\n",
    "print(info)"
   ]
  },
  {
   "cell_type": "code",
   "execution_count": null,
   "metadata": {},
   "outputs": [],
   "source": [
    "# tuple inside dicts\n",
    "a = {'Ram': (9878776765, 9808998866), 'Shyam': (9898998765, 9808665544)}\n"
   ]
  },
  {
   "cell_type": "code",
   "execution_count": null,
   "metadata": {},
   "outputs": [],
   "source": [
    "info = {}\n",
    "n = int(input(\"Enter n = \"))\n",
    "for i in range(n):\n",
    "    name = input(\"Enter name = \")\n",
    "    ntc_phone = int(input(\"Enter NTC phone = \"))\n",
    "    ncell_phone = int(input(\"Enter NTC phone = \"))\n",
    "    info[name] = (ntc_phone,ncell_phone)\n",
    "print(info)"
   ]
  },
  {
   "cell_type": "code",
   "execution_count": null,
   "metadata": {},
   "outputs": [],
   "source": [
    "a = {1:[\"Ram\",\"Nepal\",\"9845778432\"],2:[\"Ram\",\"Nepal\",\"984466678\"]}"
   ]
  },
  {
   "cell_type": "code",
   "execution_count": 7,
   "metadata": {},
   "outputs": [
    {
     "data": {
      "text/plain": [
       "{'Ram': {'NTC': 9841667766, 'NCELL': 9808556643},\n",
       " 'Shyam': {'NTC': 98416655332, 'Ncell': 9808552233}}"
      ]
     },
     "execution_count": 7,
     "metadata": {},
     "output_type": "execute_result"
    }
   ],
   "source": [
    "# dicts inside dicts\n",
    "a = {\"Ram\":{\"NTC\":9841667766,\"NCELL\":9808556643},\n",
    "    \"Shyam\":{\"NTC\":98416655332,\"Ncell\":9808552233}}\n",
    "a"
   ]
  },
  {
   "cell_type": "code",
   "execution_count": 9,
   "metadata": {},
   "outputs": [
    {
     "name": "stdout",
     "output_type": "stream",
     "text": [
      "9841667766\n"
     ]
    }
   ],
   "source": [
    "print(a[\"Ram\"][\"NTC\"])"
   ]
  },
  {
   "cell_type": "code",
   "execution_count": 10,
   "metadata": {},
   "outputs": [
    {
     "name": "stdout",
     "output_type": "stream",
     "text": [
      "('Ram', {'NTC': 9841667766, 'NCELL': 9808556643})\n",
      "('Shyam', {'NTC': 98416655332, 'Ncell': 9808552233})\n"
     ]
    }
   ],
   "source": [
    "for i in a.items():\n",
    "    print(i)"
   ]
  },
  {
   "cell_type": "code",
   "execution_count": 12,
   "metadata": {},
   "outputs": [
    {
     "name": "stdout",
     "output_type": "stream",
     "text": [
      "Enter n = 2\n",
      "Enter name = fgdgdgdf\n",
      "Enter NTC phone = 3453454\n",
      "Enter NTC phone = 3453455\n",
      "Enter name = fgdfgdfgdf\n",
      "Enter NTC phone = 354543\n",
      "Enter NTC phone = 345435\n",
      "{'fgdgdgdf': {'NTC': 3453454, 'NCELL': 3453455}, 'fgdfgdfgdf': {'NTC': 354543, 'NCELL': 345435}}\n"
     ]
    }
   ],
   "source": [
    "info = {}\n",
    "n = int(input(\"Enter n = \"))\n",
    "for i in range(n):\n",
    "    name = input(\"Enter name = \")\n",
    "    ntc_phone = int(input(\"Enter NTC phone = \"))\n",
    "    ncell_phone = int(input(\"Enter NTC phone = \"))\n",
    "    info[name] = {'NTC':ntc_phone,\"NCELL\":ncell_phone}\n",
    "print(info)"
   ]
  },
  {
   "cell_type": "code",
   "execution_count": null,
   "metadata": {},
   "outputs": [],
   "source": [
    "a={1:{\"Name\":[\"Ram,Shyam\"]},\n",
    "  2:{\"Name\":[\"Ram,Shyam\"]}}"
   ]
  },
  {
   "cell_type": "code",
   "execution_count": null,
   "metadata": {},
   "outputs": [],
   "source": [
    "# WAP for billing (accounting) for a shop (CRUD)\n",
    "# WAP for result management system (CRUD)\n",
    "\n",
    "# WAPto get the maximum and minimum value in a dictionary\n",
    "# WAP to remove duplicates from Dictionary\n",
    "# WAP to change any key or index of a Dictionary\n",
    "# WAP to drop empty Items from a given Dictionary. Go to the editor\n",
    "#     Original Dictionary:\n",
    "#     {'c1': 'Red', 'c2': 'Green', 'c3': None}\n",
    "#     New Dictionary after dropping empty items:\n",
    "#     {'c1': 'Red', 'c2': 'Green'}"
   ]
  },
  {
   "cell_type": "code",
   "execution_count": null,
   "metadata": {},
   "outputs": [],
   "source": [
    "info = {1:{\"Name\":\"Apple\",\"QTY\":3,\"Price\":100,\"Total\":300},\n",
    "        2:{\"Name\":\"Bat\",\"QTY\":1,\"Price\":200,\"Total\":200}}\n",
    "total = "
   ]
  },
  {
   "cell_type": "code",
   "execution_count": null,
   "metadata": {},
   "outputs": [],
   "source": [
    "info = {1:[\"Apple\",3,100,300],\n",
    "       2:[\"Bat\",1,200,200]}"
   ]
  },
  {
   "cell_type": "code",
   "execution_count": 3,
   "metadata": {},
   "outputs": [
    {
     "name": "stdout",
     "output_type": "stream",
     "text": [
      "enter the no. of data you want to store: 2\n",
      "enter your name: Ram\n",
      "enter the marks for maths: 78\n",
      "enter the marks for sci: 89\n",
      "enter the marks for eng: 67\n",
      "enter the marks for py: 90\n",
      "\n",
      "you have scored a distinction\n",
      "{'Ram': {'Maths': 78, 'Science': 89, 'English': 67, 'Python': 90}}\n",
      "enter your name: Shyam\n",
      "enter the marks for maths: 89\n",
      "enter the marks for sci: 78\n",
      "enter the marks for eng: 90\n",
      "enter the marks for py: 56\n",
      "\n",
      "you have scored a 1st division\n",
      "{'Ram': {'Maths': 78, 'Science': 89, 'English': 67, 'Python': 90}, 'Shyam': {'Maths': 89, 'Science': 78, 'English': 90, 'Python': 56}}\n"
     ]
    }
   ],
   "source": [
    "# wap for result management system(crud)\n",
    "\n",
    "def total(maths, sci, eng, python):\n",
    "    marks = ((maths + sci + eng + python) / 400) * 100\n",
    "    if (marks >= 80):\n",
    "        print('\\nyou have scored a distinction')\n",
    "    elif (marks < 80) & (marks >= 70):  # dont forget the brackets/parenthesis.\n",
    "        print(\"\\nyou have scored a 1st division\")\n",
    "    elif (marks < 70) & (marks >= 60):\n",
    "        print(\"\\nyou have scored a 2nd division\")\n",
    "    elif (marks < 60) & (marks >= 40):\n",
    "        print(\"\\nyou have scored a 3rd division\")\n",
    "    else:\n",
    "        print(\"\\nyou have failed\")\n",
    "result = {}\n",
    "n = int(input(\"enter the no. of data you want to store: \"))\n",
    "for i in range(n):\n",
    "    name = input(\"enter your name: \")\n",
    "    maths= int(input(\"enter the marks for maths: \"))\n",
    "    sci = int(input(\"enter the marks for sci: \"))\n",
    "    eng = int(input(\"enter the marks for eng: \"))\n",
    "    python = int(input(\"enter the marks for py: \"))\n",
    "    result[name]={\"Maths\":maths, \"Science\": sci, \"English\":eng,\"Python\": python}\n",
    "    total(maths,sci,eng,python)\n",
    "    print (result)"
   ]
  },
  {
   "cell_type": "code",
   "execution_count": 5,
   "metadata": {},
   "outputs": [
    {
     "name": "stdout",
     "output_type": "stream",
     "text": [
      "enter the name =Ram\n",
      "enter the address=Kathmandu\n",
      "enter the value of n=2\n",
      "enter the items name=Apple\n",
      "enter the items price=100\n",
      "enter the items quantity=2\n",
      "enter the items name=Banana\n",
      "enter the items price=110\n",
      "enter the items quantity=3\n",
      "530\n",
      "{1: {'name': 'Apple', 'cost': 100, 'total_items': 2, 'total_value': 200}, 2: {'name': 'Banana', 'cost': 110, 'total_items': 3, 'total_value': 330}}\n",
      "(1, {'name': 'Apple', 'cost': 100, 'total_items': 2, 'total_value': 200})\n",
      "(2, {'name': 'Banana', 'cost': 110, 'total_items': 3, 'total_value': 330})\n",
      "{'name': 'Apple', 'cost': 100, 'total_items': 2, 'total_value': 200}\n"
     ]
    },
    {
     "ename": "NameError",
     "evalue": "name 'fan' is not defined",
     "output_type": "error",
     "traceback": [
      "\u001b[1;31m---------------------------------------------------------------------------\u001b[0m",
      "\u001b[1;31mNameError\u001b[0m                                 Traceback (most recent call last)",
      "\u001b[1;32m<ipython-input-5-efa9315047f9>\u001b[0m in \u001b[0;36m<module>\u001b[1;34m\u001b[0m\n\u001b[0;32m     23\u001b[0m \u001b[1;31m#update\u001b[0m\u001b[1;33m\u001b[0m\u001b[1;33m\u001b[0m\u001b[1;33m\u001b[0m\u001b[0m\n\u001b[0;32m     24\u001b[0m \u001b[1;33m\u001b[0m\u001b[0m\n\u001b[1;32m---> 25\u001b[1;33m \u001b[0mbill\u001b[0m\u001b[1;33m[\u001b[0m\u001b[1;36m2\u001b[0m\u001b[1;33m]\u001b[0m\u001b[1;33m=\u001b[0m\u001b[1;33m{\u001b[0m\u001b[1;34m'name'\u001b[0m\u001b[1;33m:\u001b[0m\u001b[0mfan\u001b[0m\u001b[1;33m,\u001b[0m\u001b[1;34m'cost'\u001b[0m\u001b[1;33m:\u001b[0m\u001b[1;36m1000\u001b[0m\u001b[1;33m,\u001b[0m\u001b[1;34m'total_items'\u001b[0m\u001b[1;33m:\u001b[0m\u001b[1;36m2\u001b[0m\u001b[1;33m}\u001b[0m\u001b[1;33m\u001b[0m\u001b[1;33m\u001b[0m\u001b[0m\n\u001b[0m\u001b[0;32m     26\u001b[0m \u001b[0mprint\u001b[0m\u001b[1;33m(\u001b[0m\u001b[0mbill\u001b[0m\u001b[1;33m[\u001b[0m\u001b[1;36m2\u001b[0m\u001b[1;33m]\u001b[0m\u001b[1;33m)\u001b[0m\u001b[1;33m\u001b[0m\u001b[1;33m\u001b[0m\u001b[0m\n",
      "\u001b[1;31mNameError\u001b[0m: name 'fan' is not defined"
     ]
    }
   ],
   "source": [
    "bill={}\n",
    "total=0\n",
    "nameofcust=input(\"enter the name =\")\n",
    "address=input(\"enter the address=\")\n",
    "n=int(input(\"enter the value of n=\"))\n",
    "for i in range(1,n+1):\n",
    "    items=input(\"enter the items name=\")\n",
    "    price=int(input(\"enter the items price=\"))\n",
    "    quantity=int(input(\"enter the items quantity=\"))\n",
    "    total_price= (price*quantity)\n",
    "    bill[i]={'name':items,'cost':price,'total_items':quantity,'total_value':total_price}\n",
    "    total=total+total_price\n",
    "print(total)\n",
    "print(bill)\n",
    "\n",
    "#read\n",
    "for i in bill.items():\n",
    "    print(i)\n",
    "\n",
    "#delete\n",
    "a=bill.pop(1)\n",
    "print(a)\n",
    "#update\n",
    "\n",
    "bill[2]={'name':\"Fan\",'cost':1000,'total_items':2}\n",
    "print(bill[2])"
   ]
  },
  {
   "cell_type": "code",
   "execution_count": 1,
   "metadata": {},
   "outputs": [
    {
     "name": "stdout",
     "output_type": "stream",
     "text": [
      "enter the no. of data you want to store: 1\n",
      "enter item name: hat\n",
      "enter item quantity: 4\n",
      "enter item price: 78\n",
      "{0: {'Name': 'hat', 'Quantity': 4, 'price': 78}}\n",
      "total 78 rs\n",
      "do you want to update ? (y/n)y\n",
      "what do you want to update ? (name/qty/price)name\n",
      "enter the name of item you want to update ?hat\n",
      "enter the new name of item ?hate\n",
      "thank you\n",
      "{0: {'Name': 'hate', 'Quantity': 4, 'price': 78}}\n"
     ]
    }
   ],
   "source": [
    "bill = {}\n",
    "n = int(input(\"enter the no. of data you want to store: \"))\n",
    "total = 0\n",
    "for i in range(n):\n",
    "    name = input(\"enter item name: \")\n",
    "    qty = int(input(\"enter item quantity: \"))\n",
    "    p = int(input(\"enter item price: \"))\n",
    "    total = total + p\n",
    "    bill[i]={\"Name\": name, \"Quantity\":qty, \"price\":p}\n",
    "print(bill)\n",
    "print(\"total\", total ,\"rs\")\n",
    "\n",
    "def update():\n",
    "    wht = input(\"what do you want to update ? (name/qty/price)\")\n",
    "    if wht.lower() == \"name\":\n",
    "        uN = input(\"enter the name of item you want to update ?\")\n",
    "        for i in range(len(bill)):\n",
    "            if uN.lower() in bill[i]['Name']:\n",
    "                nN = input(\"enter the new name of item ?\")\n",
    "                bill[i]['Name']=  nN\n",
    "                print(\"thank you\")\n",
    "            print(bill)\n",
    "    elif  wht.lower() == \"qty\":\n",
    "        print(\"thank you\")\n",
    "    elif wht.lower() == \"price\":\n",
    "        print(\"thank you\")\n",
    "    else:\n",
    "        print(\"wrong input\")\n",
    "\n",
    "up = input(\"do you want to update ? (y/n)\")\n",
    "if up.lower() == \"y\":\n",
    "    update()\n",
    "else:\n",
    "    print(\"thank you\")"
   ]
  },
  {
   "cell_type": "code",
   "execution_count": null,
   "metadata": {},
   "outputs": [],
   "source": [
    "# https://www.w3resource.com/python-exercises/dictionary/"
   ]
  }
 ],
 "metadata": {
  "kernelspec": {
   "display_name": "Python 3",
   "language": "python",
   "name": "python3"
  },
  "language_info": {
   "codemirror_mode": {
    "name": "ipython",
    "version": 3
   },
   "file_extension": ".py",
   "mimetype": "text/x-python",
   "name": "python",
   "nbconvert_exporter": "python",
   "pygments_lexer": "ipython3",
   "version": "3.8.5"
  }
 },
 "nbformat": 4,
 "nbformat_minor": 2
}
