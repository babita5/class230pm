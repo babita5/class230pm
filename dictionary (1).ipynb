{
 "cells": [
  {
   "cell_type": "code",
   "execution_count": 1,
   "metadata": {},
   "outputs": [],
   "source": [
    "# dictionary\n",
    "# -multiple values accept\n",
    "# -mutable data type\n",
    "# -indexing\n",
    "# -ordered\n",
    "# -duplicate members\n",
    "# - no duplicate index"
   ]
  },
  {
   "cell_type": "code",
   "execution_count": 2,
   "metadata": {},
   "outputs": [
    {
     "data": {
      "text/plain": [
       "dict"
      ]
     },
     "execution_count": 2,
     "metadata": {},
     "output_type": "execute_result"
    }
   ],
   "source": [
    "a = {}\n",
    "type(a)"
   ]
  },
  {
   "cell_type": "code",
   "execution_count": 3,
   "metadata": {},
   "outputs": [
    {
     "name": "stdout",
     "output_type": "stream",
     "text": [
      "{'A': 'Apple', 'B': 'Ball'}\n",
      "<class 'dict'>\n"
     ]
    }
   ],
   "source": [
    "# a = {<key>:<value>,<key>:<value>}\n",
    "a = {\"A\":\"Apple\",\"B\":\"Ball\"}\n",
    "b = {0:\"Apple\",1:\"Ball\"}\n",
    "print(a)\n",
    "print(type(a))"
   ]
  },
  {
   "cell_type": "code",
   "execution_count": 4,
   "metadata": {},
   "outputs": [
    {
     "name": "stdout",
     "output_type": "stream",
     "text": [
      "{'A': 'Apple', 'a': 'Apple'}\n"
     ]
    }
   ],
   "source": [
    "a = {\"A\":\"Apple\",\"a\":\"Apple\"}\n",
    "print(a)"
   ]
  },
  {
   "cell_type": "code",
   "execution_count": 9,
   "metadata": {},
   "outputs": [
    {
     "data": {
      "text/plain": [
       "'Apple'"
      ]
     },
     "execution_count": 9,
     "metadata": {},
     "output_type": "execute_result"
    }
   ],
   "source": [
    "a = {\"A\":\"Apple\",\"a\":\"Apple\"}\n",
    "a[\"a\"]"
   ]
  },
  {
   "cell_type": "code",
   "execution_count": 11,
   "metadata": {},
   "outputs": [
    {
     "name": "stdout",
     "output_type": "stream",
     "text": [
      "{1: 'apple', 0: 'Apple'}\n"
     ]
    }
   ],
   "source": [
    "a = {1:\"apple\",0:\"Apple\"}\n",
    "print(a)"
   ]
  },
  {
   "cell_type": "code",
   "execution_count": 12,
   "metadata": {},
   "outputs": [
    {
     "name": "stdout",
     "output_type": "stream",
     "text": [
      "{'A': 'Ant'}\n"
     ]
    }
   ],
   "source": [
    "a = {\"A\":\"Apple\",\"A\":\"Ant\"}\n",
    "print(a)"
   ]
  },
  {
   "cell_type": "code",
   "execution_count": 15,
   "metadata": {},
   "outputs": [
    {
     "ename": "TypeError",
     "evalue": "unsupported operand type(s) for *: 'dict' and 'int'",
     "output_type": "error",
     "traceback": [
      "\u001b[1;31m---------------------------------------------------------------------------\u001b[0m",
      "\u001b[1;31mTypeError\u001b[0m                                 Traceback (most recent call last)",
      "\u001b[1;32m<ipython-input-15-1de4c0accaaa>\u001b[0m in \u001b[0;36m<module>\u001b[1;34m\u001b[0m\n\u001b[0;32m      3\u001b[0m \u001b[0mb\u001b[0m \u001b[1;33m=\u001b[0m \u001b[1;33m{\u001b[0m\u001b[1;34m\"B\"\u001b[0m\u001b[1;33m:\u001b[0m\u001b[1;34m\"Ball\"\u001b[0m\u001b[1;33m}\u001b[0m\u001b[1;33m\u001b[0m\u001b[1;33m\u001b[0m\u001b[0m\n\u001b[0;32m      4\u001b[0m \u001b[1;31m# print(a+b)\u001b[0m\u001b[1;33m\u001b[0m\u001b[1;33m\u001b[0m\u001b[1;33m\u001b[0m\u001b[0m\n\u001b[1;32m----> 5\u001b[1;33m \u001b[0mprint\u001b[0m\u001b[1;33m(\u001b[0m\u001b[0ma\u001b[0m\u001b[1;33m*\u001b[0m\u001b[1;36m2\u001b[0m\u001b[1;33m)\u001b[0m\u001b[1;33m\u001b[0m\u001b[1;33m\u001b[0m\u001b[0m\n\u001b[0m",
      "\u001b[1;31mTypeError\u001b[0m: unsupported operand type(s) for *: 'dict' and 'int'"
     ]
    }
   ],
   "source": [
    "# + *\n",
    "a = {\"A\":\"Apple\"}\n",
    "b = {\"B\":\"Ball\"}\n",
    "# print(a+b)\n",
    "print(a*2)"
   ]
  },
  {
   "cell_type": "code",
   "execution_count": 20,
   "metadata": {},
   "outputs": [
    {
     "name": "stdout",
     "output_type": "stream",
     "text": [
      "{'A': 'Apple', 'B': 'Ball'}\n"
     ]
    }
   ],
   "source": [
    "a = {\"A\":\"Apple\"}\n",
    "b = {\"B\":\"Ball\"}\n",
    "a.update(b)\n",
    "print(a)"
   ]
  },
  {
   "cell_type": "code",
   "execution_count": 21,
   "metadata": {},
   "outputs": [
    {
     "name": "stdout",
     "output_type": "stream",
     "text": [
      "{'B': 'Ball'}\n"
     ]
    }
   ],
   "source": [
    "a = {}\n",
    "b ={\"B\":\"Ball\"}\n",
    "a.update(b)\n",
    "print(a)"
   ]
  },
  {
   "cell_type": "code",
   "execution_count": 23,
   "metadata": {},
   "outputs": [
    {
     "name": "stdout",
     "output_type": "stream",
     "text": [
      "{'A': 'Apple', 'B': 'BAll'}\n"
     ]
    }
   ],
   "source": [
    "a = {}\n",
    "a['A'] = \"Apple\"\n",
    "a['B'] = \"BAll\"\n",
    "print(a)"
   ]
  },
  {
   "cell_type": "code",
   "execution_count": 24,
   "metadata": {},
   "outputs": [
    {
     "name": "stdout",
     "output_type": "stream",
     "text": [
      "{'A': 'BAll'}\n"
     ]
    }
   ],
   "source": [
    "a = {}\n",
    "a['A'] = \"Apple\"\n",
    "a['A'] = \"BAll\"\n",
    "print(a)"
   ]
  },
  {
   "cell_type": "code",
   "execution_count": 25,
   "metadata": {},
   "outputs": [
    {
     "name": "stdout",
     "output_type": "stream",
     "text": [
      "Enter n = 2\n",
      "Enter a = Apple\n",
      "Enter a = Ant\n",
      "{0: 'Apple', 1: 'Ant'}\n"
     ]
    }
   ],
   "source": [
    "c = {}\n",
    "n = int(input(\"Enter n = \"))\n",
    "for i in range(n):\n",
    "    a = input(\"Enter a = \")\n",
    "    c[i] = a\n",
    "print(c)"
   ]
  },
  {
   "cell_type": "code",
   "execution_count": 26,
   "metadata": {},
   "outputs": [
    {
     "name": "stdout",
     "output_type": "stream",
     "text": [
      "Enter n = 2\n",
      "Enter name = Ram\n",
      "Enter phone = 9878776765\n",
      "Enter name = Shyam\n",
      "Enter phone = 9898998765\n",
      "{'Ram': 9878776765, 'Shyam': 9898998765}\n"
     ]
    }
   ],
   "source": [
    "info = {}\n",
    "n = int(input(\"Enter n = \"))\n",
    "for i in range(n):\n",
    "    name = input(\"Enter name = \")\n",
    "    phone = int(input(\"Enter phone = \"))\n",
    "    info[name] = phone\n",
    "print(info)"
   ]
  },
  {
   "cell_type": "code",
   "execution_count": 27,
   "metadata": {},
   "outputs": [
    {
     "name": "stdout",
     "output_type": "stream",
     "text": [
      "Ram\n",
      "Shyam\n"
     ]
    }
   ],
   "source": [
    "for i in info:\n",
    "    print(i)"
   ]
  },
  {
   "cell_type": "code",
   "execution_count": 29,
   "metadata": {},
   "outputs": [
    {
     "name": "stdout",
     "output_type": "stream",
     "text": [
      "9878776765\n",
      "9898998765\n"
     ]
    }
   ],
   "source": [
    "for i in info.values():\n",
    "    print(i)"
   ]
  },
  {
   "cell_type": "code",
   "execution_count": 30,
   "metadata": {},
   "outputs": [
    {
     "name": "stdout",
     "output_type": "stream",
     "text": [
      "('Ram', 9878776765)\n",
      "('Shyam', 9898998765)\n"
     ]
    }
   ],
   "source": [
    "for i in info.items():\n",
    "    print(i)"
   ]
  },
  {
   "cell_type": "code",
   "execution_count": 31,
   "metadata": {},
   "outputs": [
    {
     "name": "stdout",
     "output_type": "stream",
     "text": [
      "{'Ram': 9878776766, 'Shyam': 9898998765}\n"
     ]
    }
   ],
   "source": [
    "a = {'Ram': 9878776765, 'Shyam': 9898998765}\n",
    "a['Ram'] = 9878776766\n",
    "print(a)"
   ]
  },
  {
   "cell_type": "code",
   "execution_count": 32,
   "metadata": {},
   "outputs": [
    {
     "name": "stdout",
     "output_type": "stream",
     "text": [
      "{'Shyam': 9898998765}\n"
     ]
    }
   ],
   "source": [
    "a = {'Ram': 9878776765, 'Shyam': 9898998765}\n",
    "del a['Ram']\n",
    "print(a)"
   ]
  },
  {
   "cell_type": "code",
   "execution_count": 37,
   "metadata": {},
   "outputs": [
    {
     "name": "stdout",
     "output_type": "stream",
     "text": [
      "9878776765\n"
     ]
    }
   ],
   "source": [
    "a = {'Ram': 9878776765, 'Shyam': 9898998765}\n",
    "b = a.pop('Ram')\n",
    "# print(a)\n",
    "print(b)"
   ]
  },
  {
   "cell_type": "code",
   "execution_count": 38,
   "metadata": {},
   "outputs": [
    {
     "name": "stdout",
     "output_type": "stream",
     "text": [
      "{'Ram': [9878776765, 9808998866], 'Shyam': [9898998765, 9808665544]}\n",
      "<class 'dict'>\n",
      "2\n"
     ]
    }
   ],
   "source": [
    "# list inside dicts\n",
    "a = {'Ram': [9878776765,9808998866], 'Shyam': [9898998765,9808665544]}\n",
    "print(a)\n",
    "print(type(a))\n",
    "print(len(a))"
   ]
  },
  {
   "cell_type": "code",
   "execution_count": 39,
   "metadata": {},
   "outputs": [
    {
     "data": {
      "text/plain": [
       "[9878776765, 9808998866]"
      ]
     },
     "execution_count": 39,
     "metadata": {},
     "output_type": "execute_result"
    }
   ],
   "source": [
    "a['Ram']"
   ]
  },
  {
   "cell_type": "code",
   "execution_count": 40,
   "metadata": {},
   "outputs": [
    {
     "name": "stdout",
     "output_type": "stream",
     "text": [
      "9878776765\n"
     ]
    }
   ],
   "source": [
    "print(a['Ram'][1])"
   ]
  },
  {
   "cell_type": "code",
   "execution_count": 2,
   "metadata": {},
   "outputs": [
    {
     "name": "stdout",
     "output_type": "stream",
     "text": [
      "Enter name = Ram\n",
      "Enter 0 for 'NTC' 1 for 'NCELL' 0\n",
      "The info is =  9878776765\n"
     ]
    }
   ],
   "source": [
    "a = {'Ram': [9878776765, 9808998866], 'Shyam': [9898998765, 9808665544]}\n",
    "name = input(\"Enter name = \")\n",
    "typ = int(input(\"Enter 0 for 'NTC' 1 for 'NCELL' \"))\n",
    "print(\"The info is = \",a[name][typ])"
   ]
  },
  {
   "cell_type": "code",
   "execution_count": 4,
   "metadata": {},
   "outputs": [
    {
     "name": "stdout",
     "output_type": "stream",
     "text": [
      "{'Ram': [9878776765, 9808998866, 4456554], 'Shyam': [9898998765, 9808665544]}\n"
     ]
    }
   ],
   "source": [
    "a = {'Ram': [9878776765, 9808998866], 'Shyam': [9898998765, 9808665544]}\n",
    "a['Ram'].append(4456554)\n",
    "print(a)"
   ]
  },
  {
   "cell_type": "code",
   "execution_count": 5,
   "metadata": {},
   "outputs": [
    {
     "name": "stdout",
     "output_type": "stream",
     "text": [
      "{'Ram': [9878776765, 9808998866], 'Shyam': [9898998765, 9808665544]}\n"
     ]
    }
   ],
   "source": [
    "a = {'Ram': [9878776765, 9808998866, 4456554], 'Shyam': [9898998765, 9808665544]}\n",
    "del a['Ram'][2]\n",
    "print(a)"
   ]
  },
  {
   "cell_type": "code",
   "execution_count": 6,
   "metadata": {},
   "outputs": [
    {
     "name": "stdout",
     "output_type": "stream",
     "text": [
      "Enter n = 2\n",
      "Enter name = Ram\n",
      "Enter NTC phone = 35454\n",
      "Enter NTC phone = 657567\n",
      "Enter name = Shyam\n",
      "Enter NTC phone = 44554546\n",
      "Enter NTC phone = 686868768\n",
      "{'Ram': [35454, 657567], 'Shyam': [44554546, 686868768]}\n"
     ]
    }
   ],
   "source": [
    "info = {}\n",
    "n = int(input(\"Enter n = \"))\n",
    "for i in range(n):\n",
    "    name = input(\"Enter name = \")\n",
    "    ntc_phone = int(input(\"Enter NTC phone = \"))\n",
    "    ncell_phone = int(input(\"Enter NTC phone = \"))\n",
    "    info[name] = [ntc_phone,ncell_phone]\n",
    "print(info)"
   ]
  },
  {
   "cell_type": "code",
   "execution_count": null,
   "metadata": {},
   "outputs": [],
   "source": [
    "# tuple inside dicts\n",
    "a = {'Ram': (9878776765, 9808998866), 'Shyam': (9898998765, 9808665544)}\n"
   ]
  },
  {
   "cell_type": "code",
   "execution_count": null,
   "metadata": {},
   "outputs": [],
   "source": [
    "info = {}\n",
    "n = int(input(\"Enter n = \"))\n",
    "for i in range(n):\n",
    "    name = input(\"Enter name = \")\n",
    "    ntc_phone = int(input(\"Enter NTC phone = \"))\n",
    "    ncell_phone = int(input(\"Enter NTC phone = \"))\n",
    "    info[name] = (ntc_phone,ncell_phone)\n",
    "print(info)"
   ]
  },
  {
   "cell_type": "code",
   "execution_count": null,
   "metadata": {},
   "outputs": [],
   "source": [
    "a = {1:[\"Ram\",\"Nepal\",\"9845778432\"],2:[\"Ram\",\"Nepal\",\"984466678\"]}"
   ]
  },
  {
   "cell_type": "code",
   "execution_count": 7,
   "metadata": {},
   "outputs": [
    {
     "data": {
      "text/plain": [
       "{'Ram': {'NTC': 9841667766, 'NCELL': 9808556643},\n",
       " 'Shyam': {'NTC': 98416655332, 'Ncell': 9808552233}}"
      ]
     },
     "execution_count": 7,
     "metadata": {},
     "output_type": "execute_result"
    }
   ],
   "source": [
    "# dicts inside dicts\n",
    "a = {\"Ram\":{\"NTC\":9841667766,\"NCELL\":9808556643},\n",
    "    \"Shyam\":{\"NTC\":98416655332,\"Ncell\":9808552233}}\n",
    "a"
   ]
  },
  {
   "cell_type": "code",
   "execution_count": 9,
   "metadata": {},
   "outputs": [
    {
     "name": "stdout",
     "output_type": "stream",
     "text": [
      "9841667766\n"
     ]
    }
   ],
   "source": [
    "print(a[\"Ram\"][\"NTC\"])"
   ]
  },
  {
   "cell_type": "code",
   "execution_count": 10,
   "metadata": {},
   "outputs": [
    {
     "name": "stdout",
     "output_type": "stream",
     "text": [
      "('Ram', {'NTC': 9841667766, 'NCELL': 9808556643})\n",
      "('Shyam', {'NTC': 98416655332, 'Ncell': 9808552233})\n"
     ]
    }
   ],
   "source": [
    "for i in a.items():\n",
    "    print(i)"
   ]
  },
  {
   "cell_type": "code",
   "execution_count": 12,
   "metadata": {},
   "outputs": [
    {
     "name": "stdout",
     "output_type": "stream",
     "text": [
      "Enter n = 2\n",
      "Enter name = fgdgdgdf\n",
      "Enter NTC phone = 3453454\n",
      "Enter NTC phone = 3453455\n",
      "Enter name = fgdfgdfgdf\n",
      "Enter NTC phone = 354543\n",
      "Enter NTC phone = 345435\n",
      "{'fgdgdgdf': {'NTC': 3453454, 'NCELL': 3453455}, 'fgdfgdfgdf': {'NTC': 354543, 'NCELL': 345435}}\n"
     ]
    }
   ],
   "source": [
    "info = {}\n",
    "n = int(input(\"Enter n = \"))\n",
    "for i in range(n):\n",
    "    name = input(\"Enter name = \")\n",
    "    ntc_phone = int(input(\"Enter NTC phone = \"))\n",
    "    ncell_phone = int(input(\"Enter NTC phone = \"))\n",
    "    info[name] = {'NTC':ntc_phone,\"NCELL\":ncell_phone}\n",
    "print(info)"
   ]
  },
  {
   "cell_type": "code",
   "execution_count": null,
   "metadata": {},
   "outputs": [],
   "source": [
    "a={1:{\"Name\":[\"Ram,Shyam\"]},\n",
    "  2:{\"Name\":[\"Ram,Shyam\"]}}"
   ]
  },
  {
   "cell_type": "code",
   "execution_count": null,
   "metadata": {},
   "outputs": [],
   "source": []
  }
 ],
 "metadata": {
  "kernelspec": {
   "display_name": "Python 3",
   "language": "python",
   "name": "python3"
  }
 },
 "nbformat": 4,
 "nbformat_minor": 2
}
