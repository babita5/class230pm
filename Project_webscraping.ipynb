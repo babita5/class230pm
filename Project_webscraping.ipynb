{
 "cells": [
  {
   "cell_type": "code",
   "execution_count": 3,
   "metadata": {},
   "outputs": [
    {
     "name": "stderr",
     "output_type": "stream",
     "text": [
      "C:\\ProgramData\\Anaconda3\\lib\\site-packages\\bs4\\__init__.py:417: MarkupResemblesLocatorWarning:\n",
      "\n",
      "\"https://www.worldometers.info/coronavirus/\" looks like a URL. Beautiful Soup is not an HTTP client. You should probably use an HTTP client like requests to get the document behind the URL, and feed that document to Beautiful Soup.\n",
      "\n"
     ]
    },
    {
     "data": {
      "text/html": [
       "<div>\n",
       "<style scoped>\n",
       "    .dataframe tbody tr th:only-of-type {\n",
       "        vertical-align: middle;\n",
       "    }\n",
       "\n",
       "    .dataframe tbody tr th {\n",
       "        vertical-align: top;\n",
       "    }\n",
       "\n",
       "    .dataframe thead th {\n",
       "        text-align: right;\n",
       "    }\n",
       "</style>\n",
       "<table border=\"1\" class=\"dataframe\">\n",
       "  <thead>\n",
       "    <tr style=\"text-align: right;\">\n",
       "      <th></th>\n",
       "      <th>Country,Other</th>\n",
       "      <th>TotalCases</th>\n",
       "      <th>NewCases</th>\n",
       "      <th>TotalDeaths</th>\n",
       "      <th>NewDeaths</th>\n",
       "      <th>TotalRecovered</th>\n",
       "      <th>NewRecovered</th>\n",
       "      <th>ActiveCases</th>\n",
       "      <th>Serious,Critical</th>\n",
       "      <th>Tot Cases/1M pop</th>\n",
       "      <th>Deaths/1M pop</th>\n",
       "      <th>TotalTests</th>\n",
       "      <th>Tests/\\n1M pop\\n</th>\n",
       "      <th>Continent</th>\n",
       "      <th>1 Deathevery X ppl</th>\n",
       "    </tr>\n",
       "  </thead>\n",
       "  <tbody>\n",
       "    <tr>\n",
       "      <th>0</th>\n",
       "      <td>USA</td>\n",
       "      <td>28,381,220</td>\n",
       "      <td></td>\n",
       "      <td>499,991</td>\n",
       "      <td></td>\n",
       "      <td>18,479,418</td>\n",
       "      <td></td>\n",
       "      <td>9,401,811</td>\n",
       "      <td>18,716</td>\n",
       "      <td>85,428</td>\n",
       "      <td>1,505</td>\n",
       "      <td>337,665,908</td>\n",
       "      <td>1,016,377</td>\n",
       "      <td>332,225,037</td>\n",
       "      <td>North America</td>\n",
       "    </tr>\n",
       "    <tr>\n",
       "      <th>1</th>\n",
       "      <td>India</td>\n",
       "      <td>10,937,320</td>\n",
       "      <td>+214</td>\n",
       "      <td>155,949</td>\n",
       "      <td></td>\n",
       "      <td>10,644,858</td>\n",
       "      <td>+1,955</td>\n",
       "      <td>136,513</td>\n",
       "      <td>8,944</td>\n",
       "      <td>7,877</td>\n",
       "      <td>112</td>\n",
       "      <td>207,977,229</td>\n",
       "      <td>149,782</td>\n",
       "      <td>1,388,530,816</td>\n",
       "      <td>Asia</td>\n",
       "    </tr>\n",
       "    <tr>\n",
       "      <th>2</th>\n",
       "      <td>Brazil</td>\n",
       "      <td>9,921,981</td>\n",
       "      <td></td>\n",
       "      <td>240,983</td>\n",
       "      <td></td>\n",
       "      <td>8,883,191</td>\n",
       "      <td></td>\n",
       "      <td>797,807</td>\n",
       "      <td>8,318</td>\n",
       "      <td>46,471</td>\n",
       "      <td>1,129</td>\n",
       "      <td>28,600,000</td>\n",
       "      <td>133,951</td>\n",
       "      <td>213,510,360</td>\n",
       "      <td>South America</td>\n",
       "    </tr>\n",
       "    <tr>\n",
       "      <th>3</th>\n",
       "      <td>Russia</td>\n",
       "      <td>4,099,323</td>\n",
       "      <td></td>\n",
       "      <td>80,979</td>\n",
       "      <td></td>\n",
       "      <td>3,624,663</td>\n",
       "      <td></td>\n",
       "      <td>393,681</td>\n",
       "      <td>2,300</td>\n",
       "      <td>28,083</td>\n",
       "      <td>555</td>\n",
       "      <td>107,300,000</td>\n",
       "      <td>735,063</td>\n",
       "      <td>145,973,980</td>\n",
       "      <td>Europe</td>\n",
       "    </tr>\n",
       "    <tr>\n",
       "      <th>4</th>\n",
       "      <td>UK</td>\n",
       "      <td>4,058,468</td>\n",
       "      <td></td>\n",
       "      <td>118,195</td>\n",
       "      <td></td>\n",
       "      <td>2,231,199</td>\n",
       "      <td></td>\n",
       "      <td>1,709,074</td>\n",
       "      <td>2,805</td>\n",
       "      <td>59,586</td>\n",
       "      <td>1,735</td>\n",
       "      <td>83,011,108</td>\n",
       "      <td>1,218,768</td>\n",
       "      <td>68,110,664</td>\n",
       "      <td>Europe</td>\n",
       "    </tr>\n",
       "    <tr>\n",
       "      <th>...</th>\n",
       "      <td>...</td>\n",
       "      <td>...</td>\n",
       "      <td>...</td>\n",
       "      <td>...</td>\n",
       "      <td>...</td>\n",
       "      <td>...</td>\n",
       "      <td>...</td>\n",
       "      <td>...</td>\n",
       "      <td>...</td>\n",
       "      <td>...</td>\n",
       "      <td>...</td>\n",
       "      <td>...</td>\n",
       "      <td>...</td>\n",
       "      <td>...</td>\n",
       "      <td>...</td>\n",
       "    </tr>\n",
       "    <tr>\n",
       "      <th>216</th>\n",
       "      <td>Marshall Islands</td>\n",
       "      <td>4</td>\n",
       "      <td></td>\n",
       "      <td></td>\n",
       "      <td></td>\n",
       "      <td>4</td>\n",
       "      <td></td>\n",
       "      <td>0</td>\n",
       "      <td></td>\n",
       "      <td>67</td>\n",
       "      <td></td>\n",
       "      <td></td>\n",
       "      <td></td>\n",
       "      <td>59,441</td>\n",
       "      <td>Australia/Oceania</td>\n",
       "    </tr>\n",
       "    <tr>\n",
       "      <th>217</th>\n",
       "      <td>Samoa</td>\n",
       "      <td>3</td>\n",
       "      <td></td>\n",
       "      <td></td>\n",
       "      <td></td>\n",
       "      <td>2</td>\n",
       "      <td></td>\n",
       "      <td>1</td>\n",
       "      <td></td>\n",
       "      <td>15</td>\n",
       "      <td></td>\n",
       "      <td></td>\n",
       "      <td></td>\n",
       "      <td>199,244</td>\n",
       "      <td>Australia/Oceania</td>\n",
       "    </tr>\n",
       "    <tr>\n",
       "      <th>218</th>\n",
       "      <td>Micronesia</td>\n",
       "      <td>1</td>\n",
       "      <td></td>\n",
       "      <td></td>\n",
       "      <td></td>\n",
       "      <td>1</td>\n",
       "      <td></td>\n",
       "      <td>0</td>\n",
       "      <td></td>\n",
       "      <td>9</td>\n",
       "      <td></td>\n",
       "      <td></td>\n",
       "      <td></td>\n",
       "      <td>115,780</td>\n",
       "      <td>Australia/Oceania</td>\n",
       "    </tr>\n",
       "    <tr>\n",
       "      <th>219</th>\n",
       "      <td>Vanuatu</td>\n",
       "      <td>1</td>\n",
       "      <td></td>\n",
       "      <td></td>\n",
       "      <td></td>\n",
       "      <td>1</td>\n",
       "      <td></td>\n",
       "      <td>0</td>\n",
       "      <td></td>\n",
       "      <td>3</td>\n",
       "      <td></td>\n",
       "      <td>470</td>\n",
       "      <td>1,508</td>\n",
       "      <td>311,620</td>\n",
       "      <td>Australia/Oceania</td>\n",
       "    </tr>\n",
       "    <tr>\n",
       "      <th>220</th>\n",
       "      <td>China</td>\n",
       "      <td>89,795</td>\n",
       "      <td>+7</td>\n",
       "      <td>4,636</td>\n",
       "      <td></td>\n",
       "      <td>84,602</td>\n",
       "      <td>+55</td>\n",
       "      <td>557</td>\n",
       "      <td>10</td>\n",
       "      <td>62</td>\n",
       "      <td>3</td>\n",
       "      <td>160,000,000</td>\n",
       "      <td>111,163</td>\n",
       "      <td>1,439,323,776</td>\n",
       "      <td>Asia</td>\n",
       "    </tr>\n",
       "  </tbody>\n",
       "</table>\n",
       "<p>221 rows × 15 columns</p>\n",
       "</div>"
      ],
      "text/plain": [
       "        Country,Other  TotalCases NewCases TotalDeaths NewDeaths  \\\n",
       "0                 USA  28,381,220             499,991              \n",
       "1               India  10,937,320     +214    155,949              \n",
       "2              Brazil   9,921,981             240,983              \n",
       "3              Russia   4,099,323              80,979              \n",
       "4                  UK   4,058,468             118,195              \n",
       "..                ...         ...      ...         ...       ...   \n",
       "216  Marshall Islands           4                                  \n",
       "217             Samoa           3                                  \n",
       "218        Micronesia           1                                  \n",
       "219           Vanuatu           1                                  \n",
       "220             China      89,795       +7      4,636              \n",
       "\n",
       "    TotalRecovered NewRecovered ActiveCases Serious,Critical Tot Cases/1M pop  \\\n",
       "0       18,479,418                9,401,811           18,716           85,428   \n",
       "1       10,644,858       +1,955     136,513            8,944            7,877   \n",
       "2        8,883,191                  797,807            8,318           46,471   \n",
       "3        3,624,663                  393,681            2,300           28,083   \n",
       "4        2,231,199                1,709,074            2,805           59,586   \n",
       "..             ...          ...         ...              ...              ...   \n",
       "216              4                        0                                67   \n",
       "217              2                        1                                15   \n",
       "218              1                        0                                 9   \n",
       "219              1                        0                                 3   \n",
       "220         84,602          +55         557               10               62   \n",
       "\n",
       "    Deaths/1M pop   TotalTests Tests/\\n1M pop\\n       Continent  \\\n",
       "0           1,505  337,665,908        1,016,377    332,225,037    \n",
       "1             112  207,977,229          149,782  1,388,530,816    \n",
       "2           1,129   28,600,000          133,951    213,510,360    \n",
       "3             555  107,300,000          735,063    145,973,980    \n",
       "4           1,735   83,011,108        1,218,768     68,110,664    \n",
       "..            ...          ...              ...             ...   \n",
       "216                                                     59,441    \n",
       "217                                                    199,244    \n",
       "218                                                    115,780    \n",
       "219                        470            1,508        311,620    \n",
       "220             3  160,000,000          111,163  1,439,323,776    \n",
       "\n",
       "    1 Deathevery X ppl  \n",
       "0        North America  \n",
       "1                 Asia  \n",
       "2        South America  \n",
       "3               Europe  \n",
       "4               Europe  \n",
       "..                 ...  \n",
       "216  Australia/Oceania  \n",
       "217  Australia/Oceania  \n",
       "218  Australia/Oceania  \n",
       "219  Australia/Oceania  \n",
       "220               Asia  \n",
       "\n",
       "[221 rows x 15 columns]"
      ]
     },
     "execution_count": 3,
     "metadata": {},
     "output_type": "execute_result"
    }
   ],
   "source": [
    "import csv\n",
    "import pandas as pd\n",
    "from bs4 import BeautifulSoup\n",
    "import requests\n",
    "url=BeautifulSoup('https://www.worldometers.info/coronavirus/','html.parser')\n",
    "response=requests.get(url)\n",
    "t=response.text\n",
    "display=BeautifulSoup(t,'lxml')\n",
    "\n",
    "tab=display.thead\n",
    "table_head=tab.find_all('th')\n",
    "heading=[]\n",
    "for i in table_head:\n",
    "    heading.append(i.get_text())\n",
    "\n",
    "del heading[0]\n",
    "del heading[-1]\n",
    "del heading[-2]\n",
    "del heading[-3]\n",
    "heading\n",
    "\n",
    "body=display.tbody\n",
    "td=body.find_all('tr')\n",
    "body=[]\n",
    "for i in td:\n",
    "    body.append(i.get_text().split('\\n')[2:-2])\n",
    "\n",
    "del body[:8]\n",
    "body\n",
    "\n",
    "\n",
    "b=pd.DataFrame(body,columns=heading)\n",
    "b.to_csv('worldometer.csv')\n",
    "b"
   ]
  },
  {
   "cell_type": "code",
   "execution_count": 5,
   "metadata": {},
   "outputs": [
    {
     "data": {
      "application/vnd.plotly.v1+json": {
       "config": {
        "plotlyServerURL": "https://plot.ly"
       },
       "data": [
        {
         "alignmentgroup": "True",
         "hovertemplate": "Country,Other=%{x}<br>ActiveCases=%{y}<extra></extra>",
         "legendgroup": "",
         "marker": {
          "color": "#636efa"
         },
         "name": "",
         "offsetgroup": "",
         "orientation": "v",
         "showlegend": false,
         "textposition": "auto",
         "type": "bar",
         "x": [
          "USA",
          "India",
          "Brazil",
          "Russia",
          "UK",
          "France",
          "Spain",
          "Italy",
          "Turkey",
          "Germany",
          "Colombia",
          "Argentina",
          "Mexico",
          "Poland",
          "Iran",
          "South Africa",
          "Ukraine",
          "Peru",
          "Indonesia",
          "Czechia",
          "Netherlands",
          "Canada",
          "Portugal",
          "Chile",
          "Romania",
          "Belgium",
          "Israel",
          "Iraq",
          "Sweden",
          "Pakistan",
          "Philippines",
          "Switzerland",
          "Bangladesh",
          "Morocco",
          "Austria",
          "Serbia",
          "Japan",
          "Hungary",
          "Saudi Arabia",
          "UAE",
          "Jordan",
          "Lebanon",
          "Panama",
          "Slovakia",
          "Nepal",
          "Belarus",
          "Malaysia",
          "Ecuador",
          "Georgia",
          "Croatia",
          "Bolivia",
          "Azerbaijan",
          "Bulgaria",
          "Dominican Republic",
          "Tunisia",
          "Ireland",
          "Denmark",
          "Kazakhstan",
          "Costa Rica",
          "Lithuania",
          "Slovenia",
          "Kuwait",
          "Egypt",
          "Greece",
          "Moldova",
          "Armenia",
          "Palestine",
          "Guatemala",
          "Honduras",
          "Qatar",
          "Ethiopia",
          "Nigeria",
          "Paraguay",
          "Myanmar",
          "Oman",
          "Venezuela",
          "Libya",
          "Bosnia and Herzegovina",
          "Bahrain",
          "Algeria",
          "Kenya",
          "North Macedonia",
          "Albania",
          "Kyrgyzstan",
          "S. Korea",
          "Uzbekistan",
          "Latvia",
          "Sri Lanka",
          "Ghana",
          "Zambia",
          "Montenegro",
          "Norway",
          "Singapore",
          "El Salvador",
          "Afghanistan",
          "Estonia",
          "Luxembourg",
          "Mozambique",
          "Finland",
          "Uruguay",
          "Uganda",
          "Cuba",
          "Namibia",
          "Zimbabwe",
          "Cyprus",
          "Cameroon",
          "Senegal",
          "Ivory Coast",
          "Malawi",
          "Australia",
          "Sudan",
          "Botswana",
          "Thailand",
          "DRC",
          "Angola",
          "Malta",
          "Jamaica",
          "Madagascar",
          "French Polynesia",
          "Maldives",
          "Rwanda",
          "Mauritania",
          "Eswatini",
          "French Guiana",
          "Guinea",
          "Syria",
          "Cabo Verde",
          "Mayotte",
          "Tajikistan",
          "Gabon",
          "Haiti",
          "Belize",
          "Burkina Faso",
          "Réunion",
          "Hong Kong",
          "Andorra",
          "Lesotho",
          "Guadeloupe",
          "Suriname",
          "Congo",
          "Bahamas",
          "Guyana",
          "Mali",
          "Trinidad and Tobago",
          "Aruba",
          "Martinique",
          "Nicaragua",
          "Iceland",
          "Djibouti",
          "Togo",
          "South Sudan",
          "Equatorial Guinea",
          "Somalia",
          "Benin",
          "CAR",
          "Niger",
          "Curaçao",
          "Gambia",
          "Gibraltar",
          "Channel Islands",
          "Sierra Leone",
          "Chad",
          "Comoros",
          "San Marino",
          "Guinea-Bissau",
          "Eritrea",
          "Saint Lucia",
          "Liechtenstein",
          "Mongolia",
          "New Zealand",
          "Barbados",
          "Vietnam",
          "Yemen",
          "Seychelles",
          "Sint Maarten",
          "Liberia",
          "Turks and Caicos",
          "Burundi",
          "Monaco",
          "Sao Tome and Principe",
          "St. Vincent Grenadines",
          "Saint Martin",
          "Papua New Guinea",
          "Taiwan",
          "Bhutan",
          "Diamond Princess",
          "Bermuda",
          "Faeroe Islands",
          "Mauritius",
          "Tanzania",
          "Cambodia",
          "St. Barth",
          "Antigua and Barbuda",
          "Isle of Man",
          "Cayman Islands",
          "Caribbean Netherlands",
          "Brunei ",
          "Grenada",
          "Dominica",
          "British Virgin Islands",
          "Timor-Leste",
          "Fiji",
          "Falkland Islands",
          "New Caledonia",
          "Macao",
          "Laos",
          "Saint Kitts and Nevis",
          "Greenland",
          "Vatican City",
          "Saint Pierre Miquelon",
          "Montserrat",
          "Anguilla",
          "Solomon Islands",
          "Western Sahara",
          "MS Zaandam",
          "Wallis and Futuna",
          "Marshall Islands",
          "Samoa",
          "Micronesia",
          "Vanuatu",
          "China"
         ],
         "xaxis": "x",
         "y": [
          "9,401,811",
          "136,513",
          "797,807",
          "393,681",
          "1,709,074",
          "3,162,079",
          "649,366",
          "393,686",
          "84,758",
          "131,630",
          "49,544",
          "144,337",
          "264,597",
          "203,202",
          "164,096",
          "48,855",
          "127,325",
          "44,717",
          "160,689",
          "106,211",
          "N/A",
          "33,972",
          "95,320",
          "21,930",
          "34,467",
          "668,525",
          "55,226",
          "26,990",
          "N/A",
          "25,008",
          "28,926",
          "48,850",
          "44,515",
          "9,939",
          "13,971",
          "388,223",
          "23,010",
          "77,012",
          "2,630",
          "13,725",
          "18,217",
          "90,789",
          "12,799",
          "18,333",
          "1,587",
          "8,997",
          "44,129",
          "22,304",
          "3,831",
          "1,959",
          "46,277",
          "2,201",
          "24,069",
          "49,023",
          "32,213",
          "183,769",
          "5,617",
          "13,970",
          "32,278",
          "12,891",
          "12,111",
          "10,873",
          "29,288",
          "12,970",
          "9,217",
          "4,966",
          "9,563",
          "6,734",
          "94,343",
          "9,244",
          "17,122",
          "22,036",
          "20,752",
          "7,608",
          "6,842",
          "6,711",
          "14,121",
          "14,647",
          "7,539",
          "31,794",
          "16,055",
          "6,152",
          "34,275",
          "1,721",
          "8,048",
          "882",
          "10,761",
          "6,346",
          "7,778",
          "6,240",
          "8,561",
          "4,933",
          "120",
          "3,568",
          "4,598",
          "10,533",
          "2,643",
          "18,987",
          "10,327",
          "5,119",
          "25,187",
          "4,951",
          "1,611",
          "2,922",
          "30,425",
          "2,010",
          "5,031",
          "1,583",
          "13,650",
          "1,869",
          "3,599",
          "3,683",
          "1,182",
          "8,184",
          "966",
          "2,316",
          "6,711",
          "391",
          "13,321",
          "2,391",
          "1,879",
          "289",
          "3,589",
          "6,381",
          "423",
          "5,141",
          "363",
          "10,988",
          "0",
          "1,040",
          "2,596",
          "193",
          "513",
          "811",
          "370",
          "426",
          "7,101",
          "7,128",
          "389",
          "1,277",
          "1,133",
          "588",
          "1,693",
          "156",
          "261",
          "6,410",
          "2,001",
          "24",
          "53",
          "778",
          "1,755",
          "181",
          "1,460",
          "1,017",
          "48",
          "373",
          "62",
          "419",
          "63",
          "169",
          "1,163",
          "349",
          "325",
          "271",
          "436",
          "645",
          "677",
          "17",
          "665",
          "49",
          "646",
          "703",
          "99",
          "457",
          "59",
          "106",
          "310",
          "1,079",
          "204",
          "376",
          "839",
          "346",
          "99",
          "50",
          "9",
          "0",
          "4",
          "3",
          "37",
          "305",
          "9",
          "207",
          "229",
          "4",
          "29",
          "113",
          "4",
          "1",
          "13",
          "18",
          "40",
          "0",
          "11",
          "3",
          "2",
          "4",
          "2",
          "0",
          "12",
          "8",
          "6",
          "2",
          "4",
          "1",
          "0",
          "4",
          "0",
          "1",
          "0",
          "0",
          "557"
         ],
         "yaxis": "y"
        }
       ],
       "layout": {
        "barmode": "relative",
        "legend": {
         "tracegroupgap": 0
        },
        "margin": {
         "t": 60
        },
        "template": {
         "data": {
          "bar": [
           {
            "error_x": {
             "color": "#2a3f5f"
            },
            "error_y": {
             "color": "#2a3f5f"
            },
            "marker": {
             "line": {
              "color": "#E5ECF6",
              "width": 0.5
             }
            },
            "type": "bar"
           }
          ],
          "barpolar": [
           {
            "marker": {
             "line": {
              "color": "#E5ECF6",
              "width": 0.5
             }
            },
            "type": "barpolar"
           }
          ],
          "carpet": [
           {
            "aaxis": {
             "endlinecolor": "#2a3f5f",
             "gridcolor": "white",
             "linecolor": "white",
             "minorgridcolor": "white",
             "startlinecolor": "#2a3f5f"
            },
            "baxis": {
             "endlinecolor": "#2a3f5f",
             "gridcolor": "white",
             "linecolor": "white",
             "minorgridcolor": "white",
             "startlinecolor": "#2a3f5f"
            },
            "type": "carpet"
           }
          ],
          "choropleth": [
           {
            "colorbar": {
             "outlinewidth": 0,
             "ticks": ""
            },
            "type": "choropleth"
           }
          ],
          "contour": [
           {
            "colorbar": {
             "outlinewidth": 0,
             "ticks": ""
            },
            "colorscale": [
             [
              0,
              "#0d0887"
             ],
             [
              0.1111111111111111,
              "#46039f"
             ],
             [
              0.2222222222222222,
              "#7201a8"
             ],
             [
              0.3333333333333333,
              "#9c179e"
             ],
             [
              0.4444444444444444,
              "#bd3786"
             ],
             [
              0.5555555555555556,
              "#d8576b"
             ],
             [
              0.6666666666666666,
              "#ed7953"
             ],
             [
              0.7777777777777778,
              "#fb9f3a"
             ],
             [
              0.8888888888888888,
              "#fdca26"
             ],
             [
              1,
              "#f0f921"
             ]
            ],
            "type": "contour"
           }
          ],
          "contourcarpet": [
           {
            "colorbar": {
             "outlinewidth": 0,
             "ticks": ""
            },
            "type": "contourcarpet"
           }
          ],
          "heatmap": [
           {
            "colorbar": {
             "outlinewidth": 0,
             "ticks": ""
            },
            "colorscale": [
             [
              0,
              "#0d0887"
             ],
             [
              0.1111111111111111,
              "#46039f"
             ],
             [
              0.2222222222222222,
              "#7201a8"
             ],
             [
              0.3333333333333333,
              "#9c179e"
             ],
             [
              0.4444444444444444,
              "#bd3786"
             ],
             [
              0.5555555555555556,
              "#d8576b"
             ],
             [
              0.6666666666666666,
              "#ed7953"
             ],
             [
              0.7777777777777778,
              "#fb9f3a"
             ],
             [
              0.8888888888888888,
              "#fdca26"
             ],
             [
              1,
              "#f0f921"
             ]
            ],
            "type": "heatmap"
           }
          ],
          "heatmapgl": [
           {
            "colorbar": {
             "outlinewidth": 0,
             "ticks": ""
            },
            "colorscale": [
             [
              0,
              "#0d0887"
             ],
             [
              0.1111111111111111,
              "#46039f"
             ],
             [
              0.2222222222222222,
              "#7201a8"
             ],
             [
              0.3333333333333333,
              "#9c179e"
             ],
             [
              0.4444444444444444,
              "#bd3786"
             ],
             [
              0.5555555555555556,
              "#d8576b"
             ],
             [
              0.6666666666666666,
              "#ed7953"
             ],
             [
              0.7777777777777778,
              "#fb9f3a"
             ],
             [
              0.8888888888888888,
              "#fdca26"
             ],
             [
              1,
              "#f0f921"
             ]
            ],
            "type": "heatmapgl"
           }
          ],
          "histogram": [
           {
            "marker": {
             "colorbar": {
              "outlinewidth": 0,
              "ticks": ""
             }
            },
            "type": "histogram"
           }
          ],
          "histogram2d": [
           {
            "colorbar": {
             "outlinewidth": 0,
             "ticks": ""
            },
            "colorscale": [
             [
              0,
              "#0d0887"
             ],
             [
              0.1111111111111111,
              "#46039f"
             ],
             [
              0.2222222222222222,
              "#7201a8"
             ],
             [
              0.3333333333333333,
              "#9c179e"
             ],
             [
              0.4444444444444444,
              "#bd3786"
             ],
             [
              0.5555555555555556,
              "#d8576b"
             ],
             [
              0.6666666666666666,
              "#ed7953"
             ],
             [
              0.7777777777777778,
              "#fb9f3a"
             ],
             [
              0.8888888888888888,
              "#fdca26"
             ],
             [
              1,
              "#f0f921"
             ]
            ],
            "type": "histogram2d"
           }
          ],
          "histogram2dcontour": [
           {
            "colorbar": {
             "outlinewidth": 0,
             "ticks": ""
            },
            "colorscale": [
             [
              0,
              "#0d0887"
             ],
             [
              0.1111111111111111,
              "#46039f"
             ],
             [
              0.2222222222222222,
              "#7201a8"
             ],
             [
              0.3333333333333333,
              "#9c179e"
             ],
             [
              0.4444444444444444,
              "#bd3786"
             ],
             [
              0.5555555555555556,
              "#d8576b"
             ],
             [
              0.6666666666666666,
              "#ed7953"
             ],
             [
              0.7777777777777778,
              "#fb9f3a"
             ],
             [
              0.8888888888888888,
              "#fdca26"
             ],
             [
              1,
              "#f0f921"
             ]
            ],
            "type": "histogram2dcontour"
           }
          ],
          "mesh3d": [
           {
            "colorbar": {
             "outlinewidth": 0,
             "ticks": ""
            },
            "type": "mesh3d"
           }
          ],
          "parcoords": [
           {
            "line": {
             "colorbar": {
              "outlinewidth": 0,
              "ticks": ""
             }
            },
            "type": "parcoords"
           }
          ],
          "pie": [
           {
            "automargin": true,
            "type": "pie"
           }
          ],
          "scatter": [
           {
            "marker": {
             "colorbar": {
              "outlinewidth": 0,
              "ticks": ""
             }
            },
            "type": "scatter"
           }
          ],
          "scatter3d": [
           {
            "line": {
             "colorbar": {
              "outlinewidth": 0,
              "ticks": ""
             }
            },
            "marker": {
             "colorbar": {
              "outlinewidth": 0,
              "ticks": ""
             }
            },
            "type": "scatter3d"
           }
          ],
          "scattercarpet": [
           {
            "marker": {
             "colorbar": {
              "outlinewidth": 0,
              "ticks": ""
             }
            },
            "type": "scattercarpet"
           }
          ],
          "scattergeo": [
           {
            "marker": {
             "colorbar": {
              "outlinewidth": 0,
              "ticks": ""
             }
            },
            "type": "scattergeo"
           }
          ],
          "scattergl": [
           {
            "marker": {
             "colorbar": {
              "outlinewidth": 0,
              "ticks": ""
             }
            },
            "type": "scattergl"
           }
          ],
          "scattermapbox": [
           {
            "marker": {
             "colorbar": {
              "outlinewidth": 0,
              "ticks": ""
             }
            },
            "type": "scattermapbox"
           }
          ],
          "scatterpolar": [
           {
            "marker": {
             "colorbar": {
              "outlinewidth": 0,
              "ticks": ""
             }
            },
            "type": "scatterpolar"
           }
          ],
          "scatterpolargl": [
           {
            "marker": {
             "colorbar": {
              "outlinewidth": 0,
              "ticks": ""
             }
            },
            "type": "scatterpolargl"
           }
          ],
          "scatterternary": [
           {
            "marker": {
             "colorbar": {
              "outlinewidth": 0,
              "ticks": ""
             }
            },
            "type": "scatterternary"
           }
          ],
          "surface": [
           {
            "colorbar": {
             "outlinewidth": 0,
             "ticks": ""
            },
            "colorscale": [
             [
              0,
              "#0d0887"
             ],
             [
              0.1111111111111111,
              "#46039f"
             ],
             [
              0.2222222222222222,
              "#7201a8"
             ],
             [
              0.3333333333333333,
              "#9c179e"
             ],
             [
              0.4444444444444444,
              "#bd3786"
             ],
             [
              0.5555555555555556,
              "#d8576b"
             ],
             [
              0.6666666666666666,
              "#ed7953"
             ],
             [
              0.7777777777777778,
              "#fb9f3a"
             ],
             [
              0.8888888888888888,
              "#fdca26"
             ],
             [
              1,
              "#f0f921"
             ]
            ],
            "type": "surface"
           }
          ],
          "table": [
           {
            "cells": {
             "fill": {
              "color": "#EBF0F8"
             },
             "line": {
              "color": "white"
             }
            },
            "header": {
             "fill": {
              "color": "#C8D4E3"
             },
             "line": {
              "color": "white"
             }
            },
            "type": "table"
           }
          ]
         },
         "layout": {
          "annotationdefaults": {
           "arrowcolor": "#2a3f5f",
           "arrowhead": 0,
           "arrowwidth": 1
          },
          "autotypenumbers": "strict",
          "coloraxis": {
           "colorbar": {
            "outlinewidth": 0,
            "ticks": ""
           }
          },
          "colorscale": {
           "diverging": [
            [
             0,
             "#8e0152"
            ],
            [
             0.1,
             "#c51b7d"
            ],
            [
             0.2,
             "#de77ae"
            ],
            [
             0.3,
             "#f1b6da"
            ],
            [
             0.4,
             "#fde0ef"
            ],
            [
             0.5,
             "#f7f7f7"
            ],
            [
             0.6,
             "#e6f5d0"
            ],
            [
             0.7,
             "#b8e186"
            ],
            [
             0.8,
             "#7fbc41"
            ],
            [
             0.9,
             "#4d9221"
            ],
            [
             1,
             "#276419"
            ]
           ],
           "sequential": [
            [
             0,
             "#0d0887"
            ],
            [
             0.1111111111111111,
             "#46039f"
            ],
            [
             0.2222222222222222,
             "#7201a8"
            ],
            [
             0.3333333333333333,
             "#9c179e"
            ],
            [
             0.4444444444444444,
             "#bd3786"
            ],
            [
             0.5555555555555556,
             "#d8576b"
            ],
            [
             0.6666666666666666,
             "#ed7953"
            ],
            [
             0.7777777777777778,
             "#fb9f3a"
            ],
            [
             0.8888888888888888,
             "#fdca26"
            ],
            [
             1,
             "#f0f921"
            ]
           ],
           "sequentialminus": [
            [
             0,
             "#0d0887"
            ],
            [
             0.1111111111111111,
             "#46039f"
            ],
            [
             0.2222222222222222,
             "#7201a8"
            ],
            [
             0.3333333333333333,
             "#9c179e"
            ],
            [
             0.4444444444444444,
             "#bd3786"
            ],
            [
             0.5555555555555556,
             "#d8576b"
            ],
            [
             0.6666666666666666,
             "#ed7953"
            ],
            [
             0.7777777777777778,
             "#fb9f3a"
            ],
            [
             0.8888888888888888,
             "#fdca26"
            ],
            [
             1,
             "#f0f921"
            ]
           ]
          },
          "colorway": [
           "#636efa",
           "#EF553B",
           "#00cc96",
           "#ab63fa",
           "#FFA15A",
           "#19d3f3",
           "#FF6692",
           "#B6E880",
           "#FF97FF",
           "#FECB52"
          ],
          "font": {
           "color": "#2a3f5f"
          },
          "geo": {
           "bgcolor": "white",
           "lakecolor": "white",
           "landcolor": "#E5ECF6",
           "showlakes": true,
           "showland": true,
           "subunitcolor": "white"
          },
          "hoverlabel": {
           "align": "left"
          },
          "hovermode": "closest",
          "mapbox": {
           "style": "light"
          },
          "paper_bgcolor": "white",
          "plot_bgcolor": "#E5ECF6",
          "polar": {
           "angularaxis": {
            "gridcolor": "white",
            "linecolor": "white",
            "ticks": ""
           },
           "bgcolor": "#E5ECF6",
           "radialaxis": {
            "gridcolor": "white",
            "linecolor": "white",
            "ticks": ""
           }
          },
          "scene": {
           "xaxis": {
            "backgroundcolor": "#E5ECF6",
            "gridcolor": "white",
            "gridwidth": 2,
            "linecolor": "white",
            "showbackground": true,
            "ticks": "",
            "zerolinecolor": "white"
           },
           "yaxis": {
            "backgroundcolor": "#E5ECF6",
            "gridcolor": "white",
            "gridwidth": 2,
            "linecolor": "white",
            "showbackground": true,
            "ticks": "",
            "zerolinecolor": "white"
           },
           "zaxis": {
            "backgroundcolor": "#E5ECF6",
            "gridcolor": "white",
            "gridwidth": 2,
            "linecolor": "white",
            "showbackground": true,
            "ticks": "",
            "zerolinecolor": "white"
           }
          },
          "shapedefaults": {
           "line": {
            "color": "#2a3f5f"
           }
          },
          "ternary": {
           "aaxis": {
            "gridcolor": "white",
            "linecolor": "white",
            "ticks": ""
           },
           "baxis": {
            "gridcolor": "white",
            "linecolor": "white",
            "ticks": ""
           },
           "bgcolor": "#E5ECF6",
           "caxis": {
            "gridcolor": "white",
            "linecolor": "white",
            "ticks": ""
           }
          },
          "title": {
           "x": 0.05
          },
          "xaxis": {
           "automargin": true,
           "gridcolor": "white",
           "linecolor": "white",
           "ticks": "",
           "title": {
            "standoff": 15
           },
           "zerolinecolor": "white",
           "zerolinewidth": 2
          },
          "yaxis": {
           "automargin": true,
           "gridcolor": "white",
           "linecolor": "white",
           "ticks": "",
           "title": {
            "standoff": 15
           },
           "zerolinecolor": "white",
           "zerolinewidth": 2
          }
         }
        },
        "xaxis": {
         "anchor": "y",
         "domain": [
          0,
          1
         ],
         "title": {
          "text": "Country,Other"
         }
        },
        "yaxis": {
         "anchor": "x",
         "domain": [
          0,
          1
         ],
         "title": {
          "text": "ActiveCases"
         }
        }
       }
      },
      "text/html": [
       "<div>                            <div id=\"2d6c0101-7fad-4e66-a359-3c06d74ba06d\" class=\"plotly-graph-div\" style=\"height:525px; width:100%;\"></div>            <script type=\"text/javascript\">                require([\"plotly\"], function(Plotly) {                    window.PLOTLYENV=window.PLOTLYENV || {};                                    if (document.getElementById(\"2d6c0101-7fad-4e66-a359-3c06d74ba06d\")) {                    Plotly.newPlot(                        \"2d6c0101-7fad-4e66-a359-3c06d74ba06d\",                        [{\"alignmentgroup\": \"True\", \"hovertemplate\": \"Country,Other=%{x}<br>ActiveCases=%{y}<extra></extra>\", \"legendgroup\": \"\", \"marker\": {\"color\": \"#636efa\"}, \"name\": \"\", \"offsetgroup\": \"\", \"orientation\": \"v\", \"showlegend\": false, \"textposition\": \"auto\", \"type\": \"bar\", \"x\": [\"USA\", \"India\", \"Brazil\", \"Russia\", \"UK\", \"France\", \"Spain\", \"Italy\", \"Turkey\", \"Germany\", \"Colombia\", \"Argentina\", \"Mexico\", \"Poland\", \"Iran\", \"South Africa\", \"Ukraine\", \"Peru\", \"Indonesia\", \"Czechia\", \"Netherlands\", \"Canada\", \"Portugal\", \"Chile\", \"Romania\", \"Belgium\", \"Israel\", \"Iraq\", \"Sweden\", \"Pakistan\", \"Philippines\", \"Switzerland\", \"Bangladesh\", \"Morocco\", \"Austria\", \"Serbia\", \"Japan\", \"Hungary\", \"Saudi Arabia\", \"UAE\", \"Jordan\", \"Lebanon\", \"Panama\", \"Slovakia\", \"Nepal\", \"Belarus\", \"Malaysia\", \"Ecuador\", \"Georgia\", \"Croatia\", \"Bolivia\", \"Azerbaijan\", \"Bulgaria\", \"Dominican Republic\", \"Tunisia\", \"Ireland\", \"Denmark\", \"Kazakhstan\", \"Costa Rica\", \"Lithuania\", \"Slovenia\", \"Kuwait\", \"Egypt\", \"Greece\", \"Moldova\", \"Armenia\", \"Palestine\", \"Guatemala\", \"Honduras\", \"Qatar\", \"Ethiopia\", \"Nigeria\", \"Paraguay\", \"Myanmar\", \"Oman\", \"Venezuela\", \"Libya\", \"Bosnia and Herzegovina\", \"Bahrain\", \"Algeria\", \"Kenya\", \"North Macedonia\", \"Albania\", \"Kyrgyzstan\", \"S. Korea\", \"Uzbekistan\", \"Latvia\", \"Sri Lanka\", \"Ghana\", \"Zambia\", \"Montenegro\", \"Norway\", \"Singapore\", \"El Salvador\", \"Afghanistan\", \"Estonia\", \"Luxembourg\", \"Mozambique\", \"Finland\", \"Uruguay\", \"Uganda\", \"Cuba\", \"Namibia\", \"Zimbabwe\", \"Cyprus\", \"Cameroon\", \"Senegal\", \"Ivory Coast\", \"Malawi\", \"Australia\", \"Sudan\", \"Botswana\", \"Thailand\", \"DRC\", \"Angola\", \"Malta\", \"Jamaica\", \"Madagascar\", \"French Polynesia\", \"Maldives\", \"Rwanda\", \"Mauritania\", \"Eswatini\", \"French Guiana\", \"Guinea\", \"Syria\", \"Cabo Verde\", \"Mayotte\", \"Tajikistan\", \"Gabon\", \"Haiti\", \"Belize\", \"Burkina Faso\", \"R\\u00e9union\", \"Hong Kong\", \"Andorra\", \"Lesotho\", \"Guadeloupe\", \"Suriname\", \"Congo\", \"Bahamas\", \"Guyana\", \"Mali\", \"Trinidad and Tobago\", \"Aruba\", \"Martinique\", \"Nicaragua\", \"Iceland\", \"Djibouti\", \"Togo\", \"South Sudan\", \"Equatorial Guinea\", \"Somalia\", \"Benin\", \"CAR\", \"Niger\", \"Cura\\u00e7ao\", \"Gambia\", \"Gibraltar\", \"Channel Islands\", \"Sierra Leone\", \"Chad\", \"Comoros\", \"San Marino\", \"Guinea-Bissau\", \"Eritrea\", \"Saint Lucia\", \"Liechtenstein\", \"Mongolia\", \"New Zealand\", \"Barbados\", \"Vietnam\", \"Yemen\", \"Seychelles\", \"Sint Maarten\", \"Liberia\", \"Turks and Caicos\", \"Burundi\", \"Monaco\", \"Sao Tome and Principe\", \"St. Vincent Grenadines\", \"Saint Martin\", \"Papua New Guinea\", \"Taiwan\", \"Bhutan\", \"Diamond Princess\", \"Bermuda\", \"Faeroe Islands\", \"Mauritius\", \"Tanzania\", \"Cambodia\", \"St. Barth\", \"Antigua and Barbuda\", \"Isle of Man\", \"Cayman Islands\", \"Caribbean Netherlands\", \"Brunei \", \"Grenada\", \"Dominica\", \"British Virgin Islands\", \"Timor-Leste\", \"Fiji\", \"Falkland Islands\", \"New Caledonia\", \"Macao\", \"Laos\", \"Saint Kitts and Nevis\", \"Greenland\", \"Vatican City\", \"Saint Pierre Miquelon\", \"Montserrat\", \"Anguilla\", \"Solomon Islands\", \"Western Sahara\", \"MS Zaandam\", \"Wallis and Futuna\", \"Marshall Islands\", \"Samoa\", \"Micronesia\", \"Vanuatu\", \"China\"], \"xaxis\": \"x\", \"y\": [\"9,401,811\", \"136,513\", \"797,807\", \"393,681\", \"1,709,074\", \"3,162,079\", \"649,366\", \"393,686\", \"84,758\", \"131,630\", \"49,544\", \"144,337\", \"264,597\", \"203,202\", \"164,096\", \"48,855\", \"127,325\", \"44,717\", \"160,689\", \"106,211\", \"N/A\", \"33,972\", \"95,320\", \"21,930\", \"34,467\", \"668,525\", \"55,226\", \"26,990\", \"N/A\", \"25,008\", \"28,926\", \"48,850\", \"44,515\", \"9,939\", \"13,971\", \"388,223\", \"23,010\", \"77,012\", \"2,630\", \"13,725\", \"18,217\", \"90,789\", \"12,799\", \"18,333\", \"1,587\", \"8,997\", \"44,129\", \"22,304\", \"3,831\", \"1,959\", \"46,277\", \"2,201\", \"24,069\", \"49,023\", \"32,213\", \"183,769\", \"5,617\", \"13,970\", \"32,278\", \"12,891\", \"12,111\", \"10,873\", \"29,288\", \"12,970\", \"9,217\", \"4,966\", \"9,563\", \"6,734\", \"94,343\", \"9,244\", \"17,122\", \"22,036\", \"20,752\", \"7,608\", \"6,842\", \"6,711\", \"14,121\", \"14,647\", \"7,539\", \"31,794\", \"16,055\", \"6,152\", \"34,275\", \"1,721\", \"8,048\", \"882\", \"10,761\", \"6,346\", \"7,778\", \"6,240\", \"8,561\", \"4,933\", \"120\", \"3,568\", \"4,598\", \"10,533\", \"2,643\", \"18,987\", \"10,327\", \"5,119\", \"25,187\", \"4,951\", \"1,611\", \"2,922\", \"30,425\", \"2,010\", \"5,031\", \"1,583\", \"13,650\", \"1,869\", \"3,599\", \"3,683\", \"1,182\", \"8,184\", \"966\", \"2,316\", \"6,711\", \"391\", \"13,321\", \"2,391\", \"1,879\", \"289\", \"3,589\", \"6,381\", \"423\", \"5,141\", \"363\", \"10,988\", \"0\", \"1,040\", \"2,596\", \"193\", \"513\", \"811\", \"370\", \"426\", \"7,101\", \"7,128\", \"389\", \"1,277\", \"1,133\", \"588\", \"1,693\", \"156\", \"261\", \"6,410\", \"2,001\", \"24\", \"53\", \"778\", \"1,755\", \"181\", \"1,460\", \"1,017\", \"48\", \"373\", \"62\", \"419\", \"63\", \"169\", \"1,163\", \"349\", \"325\", \"271\", \"436\", \"645\", \"677\", \"17\", \"665\", \"49\", \"646\", \"703\", \"99\", \"457\", \"59\", \"106\", \"310\", \"1,079\", \"204\", \"376\", \"839\", \"346\", \"99\", \"50\", \"9\", \"0\", \"4\", \"3\", \"37\", \"305\", \"9\", \"207\", \"229\", \"4\", \"29\", \"113\", \"4\", \"1\", \"13\", \"18\", \"40\", \"0\", \"11\", \"3\", \"2\", \"4\", \"2\", \"0\", \"12\", \"8\", \"6\", \"2\", \"4\", \"1\", \"0\", \"4\", \"0\", \"1\", \"0\", \"0\", \"557\"], \"yaxis\": \"y\"}],                        {\"barmode\": \"relative\", \"legend\": {\"tracegroupgap\": 0}, \"margin\": {\"t\": 60}, \"template\": {\"data\": {\"bar\": [{\"error_x\": {\"color\": \"#2a3f5f\"}, \"error_y\": {\"color\": \"#2a3f5f\"}, \"marker\": {\"line\": {\"color\": \"#E5ECF6\", \"width\": 0.5}}, \"type\": \"bar\"}], \"barpolar\": [{\"marker\": {\"line\": {\"color\": \"#E5ECF6\", \"width\": 0.5}}, \"type\": \"barpolar\"}], \"carpet\": [{\"aaxis\": {\"endlinecolor\": \"#2a3f5f\", \"gridcolor\": \"white\", \"linecolor\": \"white\", \"minorgridcolor\": \"white\", \"startlinecolor\": \"#2a3f5f\"}, \"baxis\": {\"endlinecolor\": \"#2a3f5f\", \"gridcolor\": \"white\", \"linecolor\": \"white\", \"minorgridcolor\": \"white\", \"startlinecolor\": \"#2a3f5f\"}, \"type\": \"carpet\"}], \"choropleth\": [{\"colorbar\": {\"outlinewidth\": 0, \"ticks\": \"\"}, \"type\": \"choropleth\"}], \"contour\": [{\"colorbar\": {\"outlinewidth\": 0, \"ticks\": \"\"}, \"colorscale\": [[0.0, \"#0d0887\"], [0.1111111111111111, \"#46039f\"], [0.2222222222222222, \"#7201a8\"], [0.3333333333333333, \"#9c179e\"], [0.4444444444444444, \"#bd3786\"], [0.5555555555555556, \"#d8576b\"], [0.6666666666666666, \"#ed7953\"], [0.7777777777777778, \"#fb9f3a\"], [0.8888888888888888, \"#fdca26\"], [1.0, \"#f0f921\"]], \"type\": \"contour\"}], \"contourcarpet\": [{\"colorbar\": {\"outlinewidth\": 0, \"ticks\": \"\"}, \"type\": \"contourcarpet\"}], \"heatmap\": [{\"colorbar\": {\"outlinewidth\": 0, \"ticks\": \"\"}, \"colorscale\": [[0.0, \"#0d0887\"], [0.1111111111111111, \"#46039f\"], [0.2222222222222222, \"#7201a8\"], [0.3333333333333333, \"#9c179e\"], [0.4444444444444444, \"#bd3786\"], [0.5555555555555556, \"#d8576b\"], [0.6666666666666666, \"#ed7953\"], [0.7777777777777778, \"#fb9f3a\"], [0.8888888888888888, \"#fdca26\"], [1.0, \"#f0f921\"]], \"type\": \"heatmap\"}], \"heatmapgl\": [{\"colorbar\": {\"outlinewidth\": 0, \"ticks\": \"\"}, \"colorscale\": [[0.0, \"#0d0887\"], [0.1111111111111111, \"#46039f\"], [0.2222222222222222, \"#7201a8\"], [0.3333333333333333, \"#9c179e\"], [0.4444444444444444, \"#bd3786\"], [0.5555555555555556, \"#d8576b\"], [0.6666666666666666, \"#ed7953\"], [0.7777777777777778, \"#fb9f3a\"], [0.8888888888888888, \"#fdca26\"], [1.0, \"#f0f921\"]], \"type\": \"heatmapgl\"}], \"histogram\": [{\"marker\": {\"colorbar\": {\"outlinewidth\": 0, \"ticks\": \"\"}}, \"type\": \"histogram\"}], \"histogram2d\": [{\"colorbar\": {\"outlinewidth\": 0, \"ticks\": \"\"}, \"colorscale\": [[0.0, \"#0d0887\"], [0.1111111111111111, \"#46039f\"], [0.2222222222222222, \"#7201a8\"], [0.3333333333333333, \"#9c179e\"], [0.4444444444444444, \"#bd3786\"], [0.5555555555555556, \"#d8576b\"], [0.6666666666666666, \"#ed7953\"], [0.7777777777777778, \"#fb9f3a\"], [0.8888888888888888, \"#fdca26\"], [1.0, \"#f0f921\"]], \"type\": \"histogram2d\"}], \"histogram2dcontour\": [{\"colorbar\": {\"outlinewidth\": 0, \"ticks\": \"\"}, \"colorscale\": [[0.0, \"#0d0887\"], [0.1111111111111111, \"#46039f\"], [0.2222222222222222, \"#7201a8\"], [0.3333333333333333, \"#9c179e\"], [0.4444444444444444, \"#bd3786\"], [0.5555555555555556, \"#d8576b\"], [0.6666666666666666, \"#ed7953\"], [0.7777777777777778, \"#fb9f3a\"], [0.8888888888888888, \"#fdca26\"], [1.0, \"#f0f921\"]], \"type\": \"histogram2dcontour\"}], \"mesh3d\": [{\"colorbar\": {\"outlinewidth\": 0, \"ticks\": \"\"}, \"type\": \"mesh3d\"}], \"parcoords\": [{\"line\": {\"colorbar\": {\"outlinewidth\": 0, \"ticks\": \"\"}}, \"type\": \"parcoords\"}], \"pie\": [{\"automargin\": true, \"type\": \"pie\"}], \"scatter\": [{\"marker\": {\"colorbar\": {\"outlinewidth\": 0, \"ticks\": \"\"}}, \"type\": \"scatter\"}], \"scatter3d\": [{\"line\": {\"colorbar\": {\"outlinewidth\": 0, \"ticks\": \"\"}}, \"marker\": {\"colorbar\": {\"outlinewidth\": 0, \"ticks\": \"\"}}, \"type\": \"scatter3d\"}], \"scattercarpet\": [{\"marker\": {\"colorbar\": {\"outlinewidth\": 0, \"ticks\": \"\"}}, \"type\": \"scattercarpet\"}], \"scattergeo\": [{\"marker\": {\"colorbar\": {\"outlinewidth\": 0, \"ticks\": \"\"}}, \"type\": \"scattergeo\"}], \"scattergl\": [{\"marker\": {\"colorbar\": {\"outlinewidth\": 0, \"ticks\": \"\"}}, \"type\": \"scattergl\"}], \"scattermapbox\": [{\"marker\": {\"colorbar\": {\"outlinewidth\": 0, \"ticks\": \"\"}}, \"type\": \"scattermapbox\"}], \"scatterpolar\": [{\"marker\": {\"colorbar\": {\"outlinewidth\": 0, \"ticks\": \"\"}}, \"type\": \"scatterpolar\"}], \"scatterpolargl\": [{\"marker\": {\"colorbar\": {\"outlinewidth\": 0, \"ticks\": \"\"}}, \"type\": \"scatterpolargl\"}], \"scatterternary\": [{\"marker\": {\"colorbar\": {\"outlinewidth\": 0, \"ticks\": \"\"}}, \"type\": \"scatterternary\"}], \"surface\": [{\"colorbar\": {\"outlinewidth\": 0, \"ticks\": \"\"}, \"colorscale\": [[0.0, \"#0d0887\"], [0.1111111111111111, \"#46039f\"], [0.2222222222222222, \"#7201a8\"], [0.3333333333333333, \"#9c179e\"], [0.4444444444444444, \"#bd3786\"], [0.5555555555555556, \"#d8576b\"], [0.6666666666666666, \"#ed7953\"], [0.7777777777777778, \"#fb9f3a\"], [0.8888888888888888, \"#fdca26\"], [1.0, \"#f0f921\"]], \"type\": \"surface\"}], \"table\": [{\"cells\": {\"fill\": {\"color\": \"#EBF0F8\"}, \"line\": {\"color\": \"white\"}}, \"header\": {\"fill\": {\"color\": \"#C8D4E3\"}, \"line\": {\"color\": \"white\"}}, \"type\": \"table\"}]}, \"layout\": {\"annotationdefaults\": {\"arrowcolor\": \"#2a3f5f\", \"arrowhead\": 0, \"arrowwidth\": 1}, \"autotypenumbers\": \"strict\", \"coloraxis\": {\"colorbar\": {\"outlinewidth\": 0, \"ticks\": \"\"}}, \"colorscale\": {\"diverging\": [[0, \"#8e0152\"], [0.1, \"#c51b7d\"], [0.2, \"#de77ae\"], [0.3, \"#f1b6da\"], [0.4, \"#fde0ef\"], [0.5, \"#f7f7f7\"], [0.6, \"#e6f5d0\"], [0.7, \"#b8e186\"], [0.8, \"#7fbc41\"], [0.9, \"#4d9221\"], [1, \"#276419\"]], \"sequential\": [[0.0, \"#0d0887\"], [0.1111111111111111, \"#46039f\"], [0.2222222222222222, \"#7201a8\"], [0.3333333333333333, \"#9c179e\"], [0.4444444444444444, \"#bd3786\"], [0.5555555555555556, \"#d8576b\"], [0.6666666666666666, \"#ed7953\"], [0.7777777777777778, \"#fb9f3a\"], [0.8888888888888888, \"#fdca26\"], [1.0, \"#f0f921\"]], \"sequentialminus\": [[0.0, \"#0d0887\"], [0.1111111111111111, \"#46039f\"], [0.2222222222222222, \"#7201a8\"], [0.3333333333333333, \"#9c179e\"], [0.4444444444444444, \"#bd3786\"], [0.5555555555555556, \"#d8576b\"], [0.6666666666666666, \"#ed7953\"], [0.7777777777777778, \"#fb9f3a\"], [0.8888888888888888, \"#fdca26\"], [1.0, \"#f0f921\"]]}, \"colorway\": [\"#636efa\", \"#EF553B\", \"#00cc96\", \"#ab63fa\", \"#FFA15A\", \"#19d3f3\", \"#FF6692\", \"#B6E880\", \"#FF97FF\", \"#FECB52\"], \"font\": {\"color\": \"#2a3f5f\"}, \"geo\": {\"bgcolor\": \"white\", \"lakecolor\": \"white\", \"landcolor\": \"#E5ECF6\", \"showlakes\": true, \"showland\": true, \"subunitcolor\": \"white\"}, \"hoverlabel\": {\"align\": \"left\"}, \"hovermode\": \"closest\", \"mapbox\": {\"style\": \"light\"}, \"paper_bgcolor\": \"white\", \"plot_bgcolor\": \"#E5ECF6\", \"polar\": {\"angularaxis\": {\"gridcolor\": \"white\", \"linecolor\": \"white\", \"ticks\": \"\"}, \"bgcolor\": \"#E5ECF6\", \"radialaxis\": {\"gridcolor\": \"white\", \"linecolor\": \"white\", \"ticks\": \"\"}}, \"scene\": {\"xaxis\": {\"backgroundcolor\": \"#E5ECF6\", \"gridcolor\": \"white\", \"gridwidth\": 2, \"linecolor\": \"white\", \"showbackground\": true, \"ticks\": \"\", \"zerolinecolor\": \"white\"}, \"yaxis\": {\"backgroundcolor\": \"#E5ECF6\", \"gridcolor\": \"white\", \"gridwidth\": 2, \"linecolor\": \"white\", \"showbackground\": true, \"ticks\": \"\", \"zerolinecolor\": \"white\"}, \"zaxis\": {\"backgroundcolor\": \"#E5ECF6\", \"gridcolor\": \"white\", \"gridwidth\": 2, \"linecolor\": \"white\", \"showbackground\": true, \"ticks\": \"\", \"zerolinecolor\": \"white\"}}, \"shapedefaults\": {\"line\": {\"color\": \"#2a3f5f\"}}, \"ternary\": {\"aaxis\": {\"gridcolor\": \"white\", \"linecolor\": \"white\", \"ticks\": \"\"}, \"baxis\": {\"gridcolor\": \"white\", \"linecolor\": \"white\", \"ticks\": \"\"}, \"bgcolor\": \"#E5ECF6\", \"caxis\": {\"gridcolor\": \"white\", \"linecolor\": \"white\", \"ticks\": \"\"}}, \"title\": {\"x\": 0.05}, \"xaxis\": {\"automargin\": true, \"gridcolor\": \"white\", \"linecolor\": \"white\", \"ticks\": \"\", \"title\": {\"standoff\": 15}, \"zerolinecolor\": \"white\", \"zerolinewidth\": 2}, \"yaxis\": {\"automargin\": true, \"gridcolor\": \"white\", \"linecolor\": \"white\", \"ticks\": \"\", \"title\": {\"standoff\": 15}, \"zerolinecolor\": \"white\", \"zerolinewidth\": 2}}}, \"xaxis\": {\"anchor\": \"y\", \"domain\": [0.0, 1.0], \"title\": {\"text\": \"Country,Other\"}}, \"yaxis\": {\"anchor\": \"x\", \"domain\": [0.0, 1.0], \"title\": {\"text\": \"ActiveCases\"}}},                        {\"responsive\": true}                    ).then(function(){\n",
       "                            \n",
       "var gd = document.getElementById('2d6c0101-7fad-4e66-a359-3c06d74ba06d');\n",
       "var x = new MutationObserver(function (mutations, observer) {{\n",
       "        var display = window.getComputedStyle(gd).display;\n",
       "        if (!display || display === 'none') {{\n",
       "            console.log([gd, 'removed!']);\n",
       "            Plotly.purge(gd);\n",
       "            observer.disconnect();\n",
       "        }}\n",
       "}});\n",
       "\n",
       "// Listen for the removal of the full notebook cells\n",
       "var notebookContainer = gd.closest('#notebook-container');\n",
       "if (notebookContainer) {{\n",
       "    x.observe(notebookContainer, {childList: true});\n",
       "}}\n",
       "\n",
       "// Listen for the clearing of the current output cell\n",
       "var outputEl = gd.closest('.output');\n",
       "if (outputEl) {{\n",
       "    x.observe(outputEl, {childList: true});\n",
       "}}\n",
       "\n",
       "                        })                };                });            </script>        </div>"
      ]
     },
     "metadata": {},
     "output_type": "display_data"
    }
   ],
   "source": [
    "import plotly.express as px\n",
    "fig = px.bar(b, x='Country,Other', y='ActiveCases')\n",
    "fig.show()"
   ]
  },
  {
   "cell_type": "code",
   "execution_count": null,
   "metadata": {},
   "outputs": [],
   "source": []
  }
 ],
 "metadata": {
  "kernelspec": {
   "display_name": "Python 3",
   "language": "python",
   "name": "python3"
  },
  "language_info": {
   "codemirror_mode": {
    "name": "ipython",
    "version": 3
   },
   "file_extension": ".py",
   "mimetype": "text/x-python",
   "name": "python",
   "nbconvert_exporter": "python",
   "pygments_lexer": "ipython3",
   "version": "3.8.5"
  }
 },
 "nbformat": 4,
 "nbformat_minor": 4
}
