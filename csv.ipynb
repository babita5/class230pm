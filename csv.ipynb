{
 "cells": [
  {
   "cell_type": "code",
   "execution_count": 1,
   "metadata": {},
   "outputs": [
    {
     "name": "stdout",
     "output_type": "stream",
     "text": [
      "Enter how many rows = 6\n",
      "Enter name = Ram\n",
      "Enter pone = 9899009988\n",
      "Enter age = 34\n",
      "Enter add = Kathmandu\n",
      "Enter blood group = A+\n",
      "Enter name = Shyam\n",
      "Enter pone = 9899887766\n",
      "Enter age = 34\n",
      "Enter add = kathmandu\n",
      "Enter blood group = B+\n",
      "Enter name = Gita\n",
      "Enter pone = 9867554565\n",
      "Enter age = 67\n",
      "Enter add = Bara\n",
      "Enter blood group = B+\n",
      "Enter name = Nabina\n",
      "Enter pone = 9856554543\n",
      "Enter age = 34\n",
      "Enter add = Bhaktapur\n",
      "Enter blood group = O-\n",
      "Enter name = Tara\n",
      "Enter pone = 9867665654\n",
      "Enter age = 23\n",
      "Enter add = Pyuthan\n",
      "Enter blood group = AB+\n",
      "Enter name = Uttam\n",
      "Enter pone = 9856776565\n",
      "Enter age = 23\n",
      "Enter add = USA\n",
      "Enter blood group = AB_\n"
     ]
    }
   ],
   "source": [
    "s = \"\"\n",
    "n = int(input(\"Enter how many rows = \"))\n",
    "for i in range(n):\n",
    "    name = input(\"Enter name = \")\n",
    "    phone = int(input(\"Enter pone = \"))\n",
    "    age = int(input(\"Enter age = \"))\n",
    "    add = input(\"Enter add = \")\n",
    "    blood = input(\"Enter blood group = \")\n",
    "    \n",
    "    info = f\"{name},{age},{add},{phone},{blood}\\n\"\n",
    "    s = s+info\n",
    "    \n",
    "b = open('info.csv','w')\n",
    "b.write(s)\n",
    "b.close()"
   ]
  },
  {
   "cell_type": "code",
   "execution_count": 4,
   "metadata": {},
   "outputs": [
    {
     "data": {
      "text/html": [
       "<div>\n",
       "<style scoped>\n",
       "    .dataframe tbody tr th:only-of-type {\n",
       "        vertical-align: middle;\n",
       "    }\n",
       "\n",
       "    .dataframe tbody tr th {\n",
       "        vertical-align: top;\n",
       "    }\n",
       "\n",
       "    .dataframe thead th {\n",
       "        text-align: right;\n",
       "    }\n",
       "</style>\n",
       "<table border=\"1\" class=\"dataframe\">\n",
       "  <thead>\n",
       "    <tr style=\"text-align: right;\">\n",
       "      <th></th>\n",
       "      <th>Name</th>\n",
       "      <th>Age</th>\n",
       "      <th>Address</th>\n",
       "      <th>Phone</th>\n",
       "      <th>Blood</th>\n",
       "    </tr>\n",
       "  </thead>\n",
       "  <tbody>\n",
       "    <tr>\n",
       "      <th>0</th>\n",
       "      <td>Ram</td>\n",
       "      <td>34</td>\n",
       "      <td>Kathmandu</td>\n",
       "      <td>9899009988</td>\n",
       "      <td>A+</td>\n",
       "    </tr>\n",
       "    <tr>\n",
       "      <th>1</th>\n",
       "      <td>Shyam</td>\n",
       "      <td>34</td>\n",
       "      <td>kathmandu</td>\n",
       "      <td>9899887766</td>\n",
       "      <td>B+</td>\n",
       "    </tr>\n",
       "    <tr>\n",
       "      <th>2</th>\n",
       "      <td>Gita</td>\n",
       "      <td>67</td>\n",
       "      <td>Bara</td>\n",
       "      <td>9867554565</td>\n",
       "      <td>B+</td>\n",
       "    </tr>\n",
       "    <tr>\n",
       "      <th>3</th>\n",
       "      <td>Nabina</td>\n",
       "      <td>34</td>\n",
       "      <td>Bhaktapur</td>\n",
       "      <td>9856554543</td>\n",
       "      <td>O-</td>\n",
       "    </tr>\n",
       "  </tbody>\n",
       "</table>\n",
       "</div>"
      ],
      "text/plain": [
       "     Name  Age    Address       Phone Blood\n",
       "0     Ram   34  Kathmandu  9899009988    A+\n",
       "1   Shyam   34  kathmandu  9899887766    B+\n",
       "2    Gita   67       Bara  9867554565    B+\n",
       "3  Nabina   34  Bhaktapur  9856554543    O-"
      ]
     },
     "execution_count": 4,
     "metadata": {},
     "output_type": "execute_result"
    }
   ],
   "source": [
    "import pandas as pd\n",
    "df = pd.read_csv('info.csv',nrows = 4)\n",
    "df"
   ]
  },
  {
   "cell_type": "code",
   "execution_count": 9,
   "metadata": {
    "scrolled": true
   },
   "outputs": [
    {
     "data": {
      "text/html": [
       "<div>\n",
       "<style scoped>\n",
       "    .dataframe tbody tr th:only-of-type {\n",
       "        vertical-align: middle;\n",
       "    }\n",
       "\n",
       "    .dataframe tbody tr th {\n",
       "        vertical-align: top;\n",
       "    }\n",
       "\n",
       "    .dataframe thead th {\n",
       "        text-align: right;\n",
       "    }\n",
       "</style>\n",
       "<table border=\"1\" class=\"dataframe\">\n",
       "  <thead>\n",
       "    <tr style=\"text-align: right;\">\n",
       "      <th></th>\n",
       "      <th>Age</th>\n",
       "      <th>Address</th>\n",
       "      <th>Phone</th>\n",
       "      <th>Blood</th>\n",
       "    </tr>\n",
       "    <tr>\n",
       "      <th>Name</th>\n",
       "      <th></th>\n",
       "      <th></th>\n",
       "      <th></th>\n",
       "      <th></th>\n",
       "    </tr>\n",
       "  </thead>\n",
       "  <tbody>\n",
       "    <tr>\n",
       "      <th>Nabina</th>\n",
       "      <td>34</td>\n",
       "      <td>Bhaktapur</td>\n",
       "      <td>9856554543</td>\n",
       "      <td>O-</td>\n",
       "    </tr>\n",
       "    <tr>\n",
       "      <th>Tara</th>\n",
       "      <td>23</td>\n",
       "      <td>Pyuthan</td>\n",
       "      <td>9867665654</td>\n",
       "      <td>AB+</td>\n",
       "    </tr>\n",
       "    <tr>\n",
       "      <th>Uttam</th>\n",
       "      <td>23</td>\n",
       "      <td>USA</td>\n",
       "      <td>9856776565</td>\n",
       "      <td>AB_</td>\n",
       "    </tr>\n",
       "  </tbody>\n",
       "</table>\n",
       "</div>"
      ],
      "text/plain": [
       "        Age    Address       Phone Blood\n",
       "Name                                    \n",
       "Nabina   34  Bhaktapur  9856554543    O-\n",
       "Tara     23    Pyuthan  9867665654   AB+\n",
       "Uttam    23        USA  9856776565   AB_"
      ]
     },
     "execution_count": 9,
     "metadata": {},
     "output_type": "execute_result"
    }
   ],
   "source": [
    "import pandas as pd\n",
    "df = pd.read_csv('info.csv',index_col = 'Name')\n",
    "# df.head(3)\n",
    "df.tail(3)"
   ]
  },
  {
   "cell_type": "code",
   "execution_count": 11,
   "metadata": {},
   "outputs": [
    {
     "data": {
      "text/html": [
       "<div>\n",
       "<style scoped>\n",
       "    .dataframe tbody tr th:only-of-type {\n",
       "        vertical-align: middle;\n",
       "    }\n",
       "\n",
       "    .dataframe tbody tr th {\n",
       "        vertical-align: top;\n",
       "    }\n",
       "\n",
       "    .dataframe thead th {\n",
       "        text-align: right;\n",
       "    }\n",
       "</style>\n",
       "<table border=\"1\" class=\"dataframe\">\n",
       "  <thead>\n",
       "    <tr style=\"text-align: right;\">\n",
       "      <th></th>\n",
       "      <th>Address</th>\n",
       "    </tr>\n",
       "    <tr>\n",
       "      <th>Name</th>\n",
       "      <th></th>\n",
       "    </tr>\n",
       "  </thead>\n",
       "  <tbody>\n",
       "    <tr>\n",
       "      <th>Nabina</th>\n",
       "      <td>Bhaktapur</td>\n",
       "    </tr>\n",
       "    <tr>\n",
       "      <th>Tara</th>\n",
       "      <td>Pyuthan</td>\n",
       "    </tr>\n",
       "    <tr>\n",
       "      <th>Uttam</th>\n",
       "      <td>USA</td>\n",
       "    </tr>\n",
       "  </tbody>\n",
       "</table>\n",
       "</div>"
      ],
      "text/plain": [
       "          Address\n",
       "Name             \n",
       "Nabina  Bhaktapur\n",
       "Tara      Pyuthan\n",
       "Uttam         USA"
      ]
     },
     "execution_count": 11,
     "metadata": {},
     "output_type": "execute_result"
    }
   ],
   "source": [
    "import pandas as pd\n",
    "df = pd.read_csv('info.csv',index_col = 'Name',usecols = ['Name','Address'])\n",
    "# df.head(3)\n",
    "# df.tail(3)"
   ]
  },
  {
   "cell_type": "code",
   "execution_count": null,
   "metadata": {},
   "outputs": [],
   "source": []
  }
 ],
 "metadata": {
  "kernelspec": {
   "display_name": "Python 3",
   "language": "python",
   "name": "python3"
  },
  "language_info": {
   "codemirror_mode": {
    "name": "ipython",
    "version": 3
   },
   "file_extension": ".py",
   "mimetype": "text/x-python",
   "name": "python",
   "nbconvert_exporter": "python",
   "pygments_lexer": "ipython3",
   "version": "3.7.1"
  }
 },
 "nbformat": 4,
 "nbformat_minor": 2
}
