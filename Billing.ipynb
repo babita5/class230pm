{
 "cells": [
  {
   "cell_type": "code",
   "execution_count": null,
   "metadata": {},
   "outputs": [],
   "source": [
    "s = {}\n",
    "av_items = {\"HP\":90000,\"ASUS\":85000,\"Dell\":75000,\"Lenovo\":65000}\n",
    "n = int(input(\"Enter the no. of items buys: \"))\n",
    "for i in range(1,n+1):\n",
    "    it = input(\"Enter the items name: \")\n",
    "    num = int(input(\"No. of quantity: \"))\n",
    "    if it in av_items.keys():\n",
    "        v = num * av_items[it]\n",
    "        s[i] = {\"Name\":it,\"QTY\":num,\"Price\":av_items[it],\"Total\":v}  \n",
    "print(s)\n",
    "\n",
    "t = int(input(\"Type 1 if u want to change item's name: \"))\n",
    "if t == 1:\n",
    "    x = input(\"Enter the name for search: \")\n",
    "    for i in s:\n",
    "        if x == s[i][\"Name\"]:\n",
    "            c = input(\"Enter the update name: \")\n",
    "            s[i][\"Name\"] = c\n",
    "    print(s)\n",
    "else:\n",
    "    print(\"NO CHANGE\")"
   ]
  }
 ],
 "metadata": {
  "kernelspec": {
   "display_name": "Python 3",
   "language": "python",
   "name": "python3"
  },
  "language_info": {
   "codemirror_mode": {
    "name": "ipython",
    "version": 3
   },
   "file_extension": ".py",
   "mimetype": "text/x-python",
   "name": "python",
   "nbconvert_exporter": "python",
   "pygments_lexer": "ipython3",
   "version": "3.8.5"
  }
 },
 "nbformat": 4,
 "nbformat_minor": 4
}
